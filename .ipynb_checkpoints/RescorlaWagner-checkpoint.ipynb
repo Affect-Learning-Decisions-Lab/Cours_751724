{
 "cells": [
  {
   "cell_type": "markdown",
   "id": "ec7effb5-48c3-4de0-8233-e2d48e8470cf",
   "metadata": {},
   "source": [
    "# Modèle de Rescorla Wagner\n",
    "\n",
    "Dans ce document nous allons voir dans les détails l'implementation du modèle de Rescorla Wagner dans le cadre d'une tâche de conditionnement Pavlovien. \n",
    "\n",
    "## Tâche expérimentale\n",
    "\n",
    "Nous allons utiliser une tâche de conditionnement Pavlovien très simple dans laquelle nous avons un seul stimulus conditionne (CS) et deux phases d'appretissage: acquisition et extension. Dans la phase d'acquisistion le CS est associé avec une récompense, dans la phase d'extension le CS n'est pas associé avec une récompense.\n",
    "\n",
    "## Code\n",
    "\n",
    "Nous allons voir en details le code qui est écrit avec MATLAB.  Avant de voir le code quelques information importantes:\n",
    "\n",
    "1. Dans se code il y a des commentaires dont le but est juste d'expliquer ce qui nous somme en train de faire mais qui ne sont pas excuté. Les commentaires sont identifiable parce que il commencent par le symble : \"**%**\"\n",
    "\n",
    "2. à la fin de chaque ligne il y a ce symbole: \" **;** \" Cela simplement empeche que la commende appraisse dans la fenetre qui emprime les outputs.\n",
    "\n",
    "Maintentant nous pouvons aller voir le code en details.\n",
    "\n",
    "\n",
    "### Definition des variables \"input\"\n",
    "\n",
    "Tout d'abord nous avons une section dans laquelle on va definier les variables input de notre modèle, ces variables sont des variables dont on veux changer facilement la valeur, donc on le met au début du code.\n",
    "\n"
   ]
  },
  {
   "cell_type": "markdown",
   "id": "d63c4d2f-769d-4581-aee0-391377b5f85e",
   "metadata": {},
   "source": [
    "Les premières variables que nous allons définir, c'est le taux d'apprentissage exitatoire -noté comme \"alphaE\"- et le taux d'apprentissage inhibitoire \"alphaI\""
   ]
  },
  {
   "cell_type": "code",
   "execution_count": 2,
   "id": "bf5befef-6c02-4d50-9a5e-1bcee5a9e22b",
   "metadata": {},
   "outputs": [],
   "source": [
    "% Parametre libre\n",
    "alpha    = 0.2;\n",
    "\n",
    "\n"
   ]
  },
  {
   "cell_type": "markdown",
   "id": "3bccc3a8-4126-4419-b31d-bbc5014421f2",
   "metadata": {},
   "source": [
    "Après on va definir le numbre d'essais (ntrials) total et dans la phase d'acquisition (acq) et extension (ext) "
   ]
  },
  {
   "cell_type": "code",
   "execution_count": 42,
   "id": "e37f1462-01e9-4699-af64-2b04373c1799",
   "metadata": {},
   "outputs": [
    {
     "data": {
      "text/html": [
       "<html><body><pre>trial = 24x1 double\n",
       "     1\n",
       "     2\n",
       "     3\n",
       "     4\n",
       "     5\n",
       "     6\n",
       "     7\n",
       "     8\n",
       "     9\n",
       "    10\n",
       "...</pre></body></html>"
      ],
      "text/plain": [
       "trial = 24x1 double\n",
       "     1\n",
       "     2\n",
       "     3\n",
       "     4\n",
       "     5\n",
       "     6\n",
       "     7\n",
       "     8\n",
       "     9\n",
       "    10\n",
       "..."
      ]
     },
     "execution_count": 42,
     "metadata": {},
     "output_type": "execute_result"
    }
   ],
   "source": [
    "% Numbre d'essais par phase\n",
    "ntrials_acq = 12;\n",
    "ntrials_ext = 12;\n",
    "\n",
    "% Numbre totale d'essais\n",
    "ntrials = ntrials_acq + ntrials_ext;\n",
    "\n",
    "trial = (1:ntrials)';"
   ]
  },
  {
   "cell_type": "markdown",
   "id": "06a1e6f5-ede8-4b75-b73f-0ac3e8ba543b",
   "metadata": {},
   "source": [
    "Ensuite nous allons definir les valeurs initales de notre modèle, c'est à dire la valeur du CS avant que l'apprentissage commence."
   ]
  },
  {
   "cell_type": "code",
   "execution_count": 4,
   "id": "da1c53ad-b6c9-410d-b515-2b8a47786db7",
   "metadata": {},
   "outputs": [],
   "source": [
    "% valeur initiale\n",
    "v0  = 0; \n"
   ]
  },
  {
   "cell_type": "markdown",
   "id": "310af0ce-8c44-4bf6-8944-367d6fdc1615",
   "metadata": {},
   "source": [
    "### Initialisation des variables \"output\" \n",
    "\n",
    "Avant de faire tourner le modèle il faut initialiser les variables \"output\" de notre modèle.\n"
   ]
  },
  {
   "cell_type": "markdown",
   "id": "6c126164-fd0f-4343-b61b-193b1d361ec5",
   "metadata": {},
   "source": [
    "Nous allons initialier un vecteur vide ((avec des NaN = not a number) dans lequel on vas sauver l'information sur la délivraison des récompenses: 0 si à l'essais il y a pas eu de récompense, et 1 si à l'essai il y a eu une récompense."
   ]
  },
  {
   "cell_type": "code",
   "execution_count": 6,
   "id": "9c31e5b6-5714-4c4f-a1bf-1dc0d400a9e0",
   "metadata": {},
   "outputs": [],
   "source": [
    "% Initialiser le vector qui contient les récompense\n",
    "r     = nan(ntrials, 1);\n"
   ]
  },
  {
   "cell_type": "markdown",
   "id": "eab1ea3e-e490-42e9-9f0c-5db02cb0fd91",
   "metadata": {},
   "source": [
    "Enfin nous allons initiliser deux variables vides dans lesquelles notre modèle vas sauver les valeurs essais par essais de nos variables latentes: la valeure attendue (VV) et l'erreur de prédiction (PE)"
   ]
  },
  {
   "cell_type": "code",
   "execution_count": 7,
   "id": "36331bc7-db9e-4c93-913e-8ded0fcbdb68",
   "metadata": {},
   "outputs": [],
   "source": [
    "% Initialiser les vecteurs qui contiendrons la valuer attendue et l'erreur de prédiction essai par essai\n",
    "\n",
    "VV  = nan(ntrials, 1); % valeur attendue\n",
    "PE  = nan(ntrials, 1); % erreur de prédiction\n"
   ]
  },
  {
   "cell_type": "markdown",
   "id": "ed6054e8-8e24-4d30-b5da-072fe555d502",
   "metadata": {},
   "source": [
    "### Executer le modèle\n",
    "\n",
    "\n",
    "Nous allons l'utiliser dans une loop \"**for**\" qui va lire les essais un par un. Et executer les operations suivantes:\n",
    "\n",
    "1. D'abord il va determiner si dans l'essai en question (t) il y a une récompense ou pas. La récompense est administré si on est dans la phase d'acquisition (ntrials_acq) et pas autrement.\n",
    "\n",
    "2. Ensuite l'errer de prediction est calculé comme il suit:  PE (t)  = dv\n",
    "\n",
    "3. Après on savegarde la valeur attendue et la valeur de l'erreur de prediction à l'essais comme il suit: VV (t)  = v;   PE (t)  = dv;\n",
    "\n",
    "4. Enfin la valeur est mis à jour sur la base de l'erreur de prediction et du taux d'apprentissage (alpha) comme il suit:  v = v + alpha * dv\n",
    "\n",
    "\n"
   ]
  },
  {
   "cell_type": "code",
   "execution_count": 40,
   "id": "4e90d481-13fa-4dd0-986b-752aaf8ba8bd",
   "metadata": {},
   "outputs": [
    {
     "data": {
      "text/html": [
       "<html><body><pre>a = 1x24 double\n",
       "     1     2     3     4     5     6     7     8     9    10    11    12    13    14    15    16    17    18    19    20    21    22    23    24\n",
       "</pre></body></html>"
      ],
      "text/plain": [
       "a = 1x24 double\n",
       "     1     2     3     4     5     6     7     8     9    10    11    12    13    14    15    16    17    18    19    20    21    22    23    24\n"
      ]
     },
     "execution_count": 40,
     "metadata": {},
     "output_type": "execute_result"
    },
    {
     "data": {
      "text/html": [
       "<html><body><pre>a = 24x1 double\n",
       "     1\n",
       "     2\n",
       "     3\n",
       "     4\n",
       "     5\n",
       "     6\n",
       "     7\n",
       "     8\n",
       "     9\n",
       "    10\n",
       "...</pre></body></html>"
      ],
      "text/plain": [
       "a = 24x1 double\n",
       "     1\n",
       "     2\n",
       "     3\n",
       "     4\n",
       "     5\n",
       "     6\n",
       "     7\n",
       "     8\n",
       "     9\n",
       "    10\n",
       "..."
      ]
     },
     "execution_count": 40,
     "metadata": {},
     "output_type": "execute_result"
    }
   ],
   "source": [
    "v = v0; % valeur du CS avant l'apprentissage\n",
    "\n",
    "for t = 1:ntrials\n",
    "    \n",
    "    if t <= ntrials_acq % essai d'acquisition\n",
    "        r(t) = 1;\n",
    "    else                % essai d'extension\n",
    "        r(t) = 0;\n",
    "    end\n",
    "    \n",
    "    % calcule de l'erreur de prediction\n",
    "    dv = r(t) - v;\n",
    "\n",
    "    % sauver la valuer attendue à l'essai\n",
    "    VV (t)  = v;\n",
    "\n",
    "    % sauver l'erreur de prédiction à l'essai\n",
    "    PE (t)  = dv;\n",
    " \n",
    "    % Modèle de Rescorla-Wagner\n",
    "    v = v + alpha * dv; % mise à jours de la valeur\n",
    "\n",
    "end\n",
    "\n"
   ]
  },
  {
   "cell_type": "markdown",
   "id": "17dc6339-c6f5-420d-b4e7-a6f7e0633d28",
   "metadata": {},
   "source": [
    "\n",
    "Nous pouvons visualiser les variables input du modèles (essais et récompense) and les variables output (valeur attendue et erreur de prédiction)"
   ]
  },
  {
   "cell_type": "code",
   "execution_count": null,
   "id": "59498f21-f6e5-435f-bec4-811b4322fae2",
   "metadata": {},
   "outputs": [],
   "source": [
    "table(trials,r,VV,PE,...\n",
    "               'VariableNames',{'Essai','Recompense', 'Valuer Attendue', 'Erreur de prédiction'})"
   ]
  },
  {
   "cell_type": "markdown",
   "id": "16593e00-40cc-4a30-9e3f-540e97fcfe8e",
   "metadata": {
    "tags": []
   },
   "source": [
    "### Representations graphiques des trajectoires temporelles des variables latentes\n",
    "\n",
    "Pour finir, nous pouvons creer un grafique qui nous montre les trajectoires temperelles des nous variables latentes : valeure attendue et erreur de prédiction"
   ]
  },
  {
   "cell_type": "code",
   "execution_count": 22,
   "id": "9ba00cfa-9b4d-48bf-afca-22beefd95d1e",
   "metadata": {},
   "outputs": [
    {
     "data": {
      "image/png": "[encoded data removed]"
     },
     "execution_count": 22,
     "metadata": {},
     "output_type": "execute_result"
    }
   ],
   "source": [
    "\n",
    "figure\n",
    "\n",
    "% Afficher les résultats de la simulation pour la valeur prédite\n",
    "subplot(2, 1, 1)\n",
    "value = plot(VV, '-k');  % Ligne noire reliant les points\n",
    "hold on\n",
    "plot(VV, 'ok', 'MarkerFaceColor', 'k');  % Points noirs pour chaque observation\n",
    "xline(12, '--k', 'LineWidth', 1);  % Ligne verticale en pointillés au 12ème essai\n",
    "set(value, 'LineWidth', 2);\n",
    "xlim([0, ntrials]);\n",
    "ylim([0, 1.1]);\n",
    "xlabel('essais');\n",
    "ylabel('Valeur attendue (V)');\n",
    "legend(value, ['alpha = ', num2str(alpha)]);\n",
    "hold off\n",
    "\n",
    "% Afficher les résultats de la simulation pour l'erreur de prédiction\n",
    "subplot(2, 1, 2);\n",
    "prediction_error = plot(PE, '-k');  % Ligne noire reliant les points\n",
    "hold on\n",
    "plot(PE, 'ok', 'MarkerFaceColor', 'k');  % Points noirs pour chaque observation\n",
    "xline(12, '--k', 'LineWidth', 1);  % Ligne verticale en pointillés au 12ème essai\n",
    "\n",
    "set(prediction_error, 'LineWidth', 2);\n",
    "xlim([0, ntrials]);\n",
    "ylim([-1.1, 1.1]);\n",
    "xlabel('essais');\n",
    "ylabel('Erreur de prédiction');\n",
    "hold off\n",
    "\n"
   ]
  },
  {
   "cell_type": "code",
   "execution_count": null,
   "id": "443c772e-fd88-478b-933d-fb018b4864b0",
   "metadata": {},
   "outputs": [],
   "source": []
  }
 ],
 "metadata": {
  "kernelspec": {
   "display_name": "MATLAB Kernel",
   "language": "matlab",
   "name": "jupyter_matlab_kernel"
  },
  "language_info": {
   "file_extension": ".m",
   "mimetype": "text/x-matlab",
   "name": "matlab"
  }
 },
 "nbformat": 4,
 "nbformat_minor": 5
}
