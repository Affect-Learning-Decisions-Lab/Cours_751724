{
 "cells": [
  {
   "cell_type": "markdown",
   "id": "5caeb7e8-d374-4bad-b8f8-99ab651b60a1",
   "metadata": {},
   "source": [
    "# Estimation des paramètres libres \n",
    "\n",
    "## Tâche expérimentale et modèle\n",
    "La tâche que nous utilisons pour illuster l'estimation des paramètres libres est celle des slot-machines. Nous allons utiliser le modèle Q-learning vu dans les cours sur les simulations.\n",
    "\n",
    "\n"
   ]
  },
  {
   "cell_type": "markdown",
   "id": "a76eb871-194e-492e-9ddc-629d6d4d5ced",
   "metadata": {},
   "source": [
    "## Estimation des paramètres\n",
    "\n",
    "L'idée de l'estimation des paramètres libres est de réussir à identifier la valeur des paramètres du modèle (le taux d'apprentissage et la température) qui génèrent des choix qui ressemblent le plus possible à ceux du participant.\n",
    "\n"
   ]
  },
  {
   "cell_type": "markdown",
   "id": "d534cdc0-1605-453b-b0bb-b4a5884068f0",
   "metadata": {},
   "source": [
    "## Méthode 1: Grid Search\n",
    "\n",
    "La première méthode que nous allons utiliser est celle du \"grid search\", qui consiste à simuler la probabilité de choix du modèle et voir à quel point elle décrit bien le comportement du participant.\n",
    "\n",
    "D'un point de vue pratique, la méthode du \"grid search\" consiste à générer les probabilités de choix du modèle avec toutes les combinaisons de paramètres ($ \\alpha $ et $ \\beta $) possibles, et voir à quel point cela décrit bien le comportement du participant (en calculant la vraisemblance des données) et de sélectionner la paire qui génère les prédictions du modèle qui correspondent (\"fit\") le mieux au comportement observé.\n",
    "\n",
    "D'un point de vue théorique, le but de la méthode \"grid search\" est de trouver les valeurs des paramètres libres ($ \\alpha $ et $ \\beta $) qui maximisent la probabilité des données observées (les choix du participant), étant donné le modèle que nous avons (Qmodel). \n",
    "\n",
    "$$\n",
    "p(data | model)\n",
    "$$\n",
    "\n",
    "Cette quantité est aussi connue comme la vraisemblance (*likelihood*) des données.\n",
    "\n",
    "\n"
   ]
  },
  {
   "cell_type": "markdown",
   "id": "8c70e342-1279-4b21-8110-47749c7d414a",
   "metadata": {},
   "source": [
    "### Code du \"Grid Search\" pour le Qmodel avec plusieurs blocs d'apprentissage\n",
    "\n",
    "Dans cette partie du code nous allons faire appel à des fonctions. Dans cette partie, il nous suffit de savoir que nous avons deux dossiers qui contiennent deux fonctions différentes auxquelles nous allons faire appel plus tard :\n",
    "\n",
    "- **dans le dossier \"my_models\" :** il y a une fonction qui s'appelle Qmodel, qui produit des choix simulés du modèle avec certains paramètres libres (`alpha` et `inv_temp`) et certaines caractéristiques de la tâche expérimentale comme le nombre d'essais (`ntrials`) et le nombre de blocs d'apprentissage (`nruns`).\n",
    "\n",
    "- **dans le dossier \"my_functions\" :** il y a une fonction qui s'appelle estimateQ_gridsearch qui exécute le grid search pour trouver les meilleures valeurs des paramètres libres du Qmodel, étant donné les choix (`ch`) et l'historique des récompenses obtenues (`r`) ainsi que les caractéristiques de la tâche (`nruns`) d'un certain participant.\n",
    "\n"
   ]
  },
  {
   "cell_type": "markdown",
   "id": "4a214cda-d4a1-43a7-8b3d-7b2bf93b51d7",
   "metadata": {},
   "source": [
    "### Code étape 1 : définir ou trouver les fonctions \n",
    "\n",
    "Attention, pour que cela marche, il faux exécuter le script à partir du dossier \"3-estimer_parametres\"."
   ]
  },
  {
   "cell_type": "code",
   "execution_count": 4,
   "id": "4de9e6c7-e0b3-445c-ae6e-2aac360e518d",
   "metadata": {},
   "outputs": [
    {
     "data": {
      "text/html": [
       "<html><body><pre>home = '/Users/pool/Documents/Teaching/PA/AdvanceSignal/code/3-estimer_parametres'</pre></body></html>"
      ],
      "text/plain": [
       "home = '/Users/pool/Documents/Teaching/PA/AdvanceSignal/code/3-estimer_parametres'"
      ]
     },
     "execution_count": 4,
     "metadata": {},
     "output_type": "execute_result"
    }
   ],
   "source": [
    "here = pwd;\n",
    "\n",
    "home = fullfile(here)\n",
    "\n",
    "addpath(genpath(fullfile(home,'my_models')));\n",
    "addpath(genpath(fullfile(home,'my_functions')));\n"
   ]
  },
  {
   "cell_type": "markdown",
   "id": "df3c4b4e-b9fc-49f7-9d78-cdd165eb7141",
   "metadata": {},
   "source": [
    "Vérifiez bien que la variable *\"here\"* corresponde au chemin où le dossier \"3-estimer_parametres\" se trouve sur votre ordinateur."
   ]
  },
  {
   "cell_type": "markdown",
   "id": "fddc1b09-fe3a-43a8-88b1-20cbb2d71278",
   "metadata": {},
   "source": [
    "### Code étape 2 : définir les caractéristiques de la tâche\n",
    "\n",
    "Nombre d'essais et nombre de blocs d'apprentissage :"
   ]
  },
  {
   "cell_type": "code",
   "execution_count": 5,
   "id": "94f1cbc6-6a83-40f2-bb49-71f657c9270a",
   "metadata": {},
   "outputs": [],
   "source": [
    "ntrials =  24;\n",
    "nruns   =  50;"
   ]
  },
  {
   "cell_type": "markdown",
   "id": "4f5ce6fc-b798-46ce-8735-7f6bbffded24",
   "metadata": {},
   "source": [
    "### Code étape 3: créer un participant synthétique\n",
    "\n",
    "Nous n'avons pas de vraies données, nous allons simuler des choix d'un participant synthétique (`sim_ch`) avec deux valeurs de paramètres libres que nous allons fixer au préalable. Dans un cas normal, nous ne connaissons pas ces paramètres et nous mesurons simplement les choix des participants.\n",
    "\n",
    "La fonction Qmodel a comme variables input :\n",
    "- la valeur de $\\alpha$ : `sim_alpha`\n",
    "- la valeur de $\\beta$ : `sim_inv_temp`\n",
    "- le nombre d'essais : `ntrials`\n",
    "- le nombre de blocs d'apprentissage : `nruns`\n",
    "\n",
    "Et comme variables output elle va renvoyer :\n",
    "- les choix du participant simulé : `sim_ch`\n",
    "- l'historique des récompenses délivrées à ce participant pendant la tâche : `sim_r`\n"
   ]
  },
  {
   "cell_type": "code",
   "execution_count": 21,
   "id": "d4683d42-100c-471f-bf0c-12d9ab52449b",
   "metadata": {},
   "outputs": [],
   "source": [
    "sim_alpha    = 0.3;\n",
    "sim_inv_temp = 3;\n",
    "\n",
    "\n",
    "[sim_ch, sim_r] = Qmodel (sim_alpha, sim_inv_temp, ntrials, nruns);\n"
   ]
  },
  {
   "cell_type": "markdown",
   "id": "3c353697-213b-41fe-b743-a3ba9e04a91b",
   "metadata": {},
   "source": [
    "Attention, la fonction est stochastique et génère des séries temporelles similaires mais différentes à chaque fois."
   ]
  },
  {
   "cell_type": "markdown",
   "id": "c20d5b80-66c2-4d75-bc4c-06bba07d5a23",
   "metadata": {},
   "source": [
    "### Code étape 4: faire un \"Grid Search\" pour trouver les valeurs des paramètres libres qui décrivent le mieux les choix du participant (synthétique)\n",
    "\n",
    "Le résultat du grid search est une carte de la somme négative de la vraisemblance transformée en log (negative log likelihood, nLL) pour toutes les combinaisons des valeurs du taux d'apprentissage et de la température inverse. Le point rouge indique la combinaison de paramètres qui minimise la vraisemblance négative.\n"
   ]
  },
  {
   "cell_type": "code",
   "execution_count": 22,
   "id": "08ae9399-489e-41c2-8ee3-68f1ed7dd9d2",
   "metadata": {},
   "outputs": [
    {
     "data": {
      "image/png": "[encoded data removed]"
     },
     "execution_count": 22,
     "metadata": {},
     "output_type": "execute_result"
    },
    {
     "name": "stdout",
     "output_type": "stream",
     "text": [
      "alpha =0.3\n",
      "inv. temp =3\n"
     ]
    }
   ],
   "source": [
    "\n",
    "[est_alpha, est_temp] = estimateQ_gridsearch(sim_ch, sim_r, nruns);"
   ]
  },
  {
   "cell_type": "markdown",
   "id": "6d210a0e-f321-424c-a52b-285465f11006",
   "metadata": {},
   "source": [
    " ### Limites et avantages du \"Grid Search\"\n",
    " \n",
    " Cette approche d'estimation a des avantages mais aussi des limites importantes.\n",
    " \n",
    " Parmi les avantages :\n",
    " \n",
    " - conceptuellement simple\n",
    " - facile à mettre en œuvre \n",
    " - résultats sont faciles à visualiser\n",
    " \n",
    " Parmi les désavantages :\n",
    " \n",
    " - n'est pas implémentable avec des modèles ayant plusieurs paramètres libres\n",
    " - lourd en temps de calcul et mémoire, même pour des intervalles relativement grossiers\n",
    " - pas possible de contraindre vos paramètres en utilisant des \"priors informatifs\"\n",
    " - pas possible d'utiliser des \"priors empiriques\" (le cadre d'une approche de modèle mixte hiérarchique)\n",
    " \n",
    "\n",
    "\n",
    " "
   ]
  },
  {
   "cell_type": "markdown",
   "id": "1ef363e0-b592-4764-8911-a412b340b8f7",
   "metadata": {
    "tags": []
   },
   "source": [
    "### Approfondissement du code de la fonction estimateQ_gridsearch\n",
    "\n",
    "Dans cet approfondissement, nous allons voir en détail le code de la fonction qui exécute le grid search pour le Qmodel. Comme dans MATLAB nous ne pouvons pas définir les fonctions dans le script principal, nous allons légèrement la modifier pour pouvoir exécuter le code."
   ]
  },
  {
   "cell_type": "markdown",
   "id": "2ed6e0d6-d42a-4285-aaa8-b8c6490edf23",
   "metadata": {},
   "source": [
    "Premièrement, nous allons mettre la déclaration de la fonction en commentaire :"
   ]
  },
  {
   "cell_type": "code",
   "execution_count": 21,
   "id": "59379193-d303-4801-8615-0cb81da106d5",
   "metadata": {},
   "outputs": [],
   "source": [
    "% function [est_alpha, est_temp] = estimateQ_gridsearch(ch, r, nruns)"
   ]
  },
  {
   "cell_type": "markdown",
   "id": "975dba77-d8dd-4a87-bde9-1fc609d9904d",
   "metadata": {},
   "source": [
    "Ensuite, nous allons définir les variables qui sont normalement entrées comme input de la fonction :"
   ]
  },
  {
   "cell_type": "code",
   "execution_count": 16,
   "id": "a8e748a4-3373-4f2d-a580-5e9aac333329",
   "metadata": {},
   "outputs": [],
   "source": [
    "ch    = sim_ch;\n",
    "r     = sim_r;\n",
    "nruns = nruns; % cela n'est pas nécessaire"
   ]
  },
  {
   "cell_type": "markdown",
   "id": "cd907136-773a-49fe-b3f9-77d7802316cd",
   "metadata": {},
   "source": [
    "Maitenant, nous pouvons exécuter le code de la fonction ligne par ligne. Nous commençons avec les caractéristiques de la tâche."
   ]
  },
  {
   "cell_type": "code",
   "execution_count": 17,
   "id": "d7764ccd-2774-4843-988c-b2a3faee0589",
   "metadata": {},
   "outputs": [],
   "source": [
    "% définir la valeur initiale\n",
    "Q0  = [0 0]; \n",
    "\n",
    "% nombre d'essais\n",
    "ntrials = size(ch,1); % on détermine le nombre d'essais à partir du nombre de choix du participant\n"
   ]
  },
  {
   "cell_type": "markdown",
   "id": "a59dafd5-11f0-4cd8-b19d-ba4beb8cbc5e",
   "metadata": {},
   "source": [
    "Ensuite, on détermine les valeurs possibles des paramètres libres que nous voulons explorer."
   ]
  },
  {
   "cell_type": "code",
   "execution_count": 18,
   "id": "acc83b96-8841-43cc-a8e6-29185002eace",
   "metadata": {},
   "outputs": [],
   "source": [
    "% taux d'apprentissage alpha varie entre 0 et 1 avec 201 étapes\n",
    "alpha_mat = linspace(0,1, 201);\n",
    "\n",
    "% température inverse varie entre 0 et 1 avec 201 étapes\n",
    "temp_mat  = linspace(0, 10, 201);"
   ]
  },
  {
   "cell_type": "markdown",
   "id": "7066d8b1-6876-4296-95c1-e133a5020e55",
   "metadata": {},
   "source": [
    "Selon l'espace que nous avons défini ci-dessus, nous initialisons une matrice vide dans laquelle nous allons sauvegarder la vraisemblance (negative log-likelihood, nLL) de chaque combinaison de paramètres."
   ]
  },
  {
   "cell_type": "code",
   "execution_count": 19,
   "id": "f44aee53-7368-4e6c-842f-44afe2e3a539",
   "metadata": {},
   "outputs": [],
   "source": [
    "% initialiser la matrice de vraisemblance pour chaque combinaison de paramètres\n",
    "nLL = NaN(numel(alpha_mat),numel(temp_mat));"
   ]
  },
  {
   "cell_type": "markdown",
   "id": "b3ae031a-8bfd-45a0-81bb-efead43de076",
   "metadata": {},
   "source": [
    "Tout est prêt pour commencer à explorer l'espace des paramètres que nous avons défini. Nous allons procéder avec deux boucles `for` imbriquées l'une dans l'autre. La première lit de manière séquentielle les valeurs d'alpha et la deuxième les valeurs de la température inverse. Donc, pour une valeur d'alpha, nous allons examiner toutes les valeurs possibles de la température inverse, puis passer à la prochaine valeur d'alpha et ainsi de suite.\n",
    "\n",
    "Ce qui est important dans cette partie, c'est de comprendre où les simulations du modèle et les données du participant sont comparées : nous utilisons le modèle pour calculer la probabilité de choisir (`PA`), ensuite nous utilisons cette probabilité pour voir si elle prédit bien le choix du participant (`ch`). C'est ainsi que nous calculons la vraisemblance (`lik`) à chaque essai.\n",
    "\n",
    "À la fin des essais, nous calculons la somme négative de la transformation en log de la vraisemblance à chaque essai.\n",
    "\n",
    "Attention, quand vous exécutez cette partie du code, cela va prendre longtemps (comme discuté dans les limites de cette approche ci-dessus)."
   ]
  },
  {
   "cell_type": "code",
   "execution_count": 20,
   "id": "e48500eb-e400-48bc-b35b-9ea34eabfb98",
   "metadata": {},
   "outputs": [],
   "source": [
    "%% explorer\n",
    "\n",
    "% commençons par explorer la vraisemblance des choix avec toutes les\n",
    "% combinaisons possibles\n",
    "\n",
    "for a = 1:size(alpha_mat,2)\n",
    "\n",
    "    alpha = alpha_mat(a); % sélectionner une valeur possible du taux d'apprentissage\n",
    "\n",
    "\n",
    "    for b = 1:size(temp_mat,2)\n",
    "\n",
    "        inv_temp = temp_mat(b); % sélectionner une valeur possible de température\n",
    "\n",
    "\n",
    "        % initialiser les variables du modèle\n",
    "        PA = NaN(ntrials,1);\n",
    "        lik = NaN(ntrials,1);\n",
    "        Qt = NaN(ntrials,2);\n",
    "        PE = NaN(ntrials,1);\n",
    "\n",
    "        % valeur avant le début de l'apprentissage\n",
    "        Qt(1,:)  = Q0;\n",
    "\n",
    "        for t = 1:ntrials\n",
    "\n",
    "            if  mod(t,(ntrials/nruns)) == 0\n",
    "                % initialiser la valeur pour chaque série\n",
    "                Qt(t,:)  = Q0;\n",
    "            end\n",
    "\n",
    "            % calculer la probabilité de choisir A du modèle\n",
    "            PA(t)   = 1./(1+exp(-inv_temp.*(Qt(t,2)-Qt(t,1))));\n",
    "\n",
    "            % voir à quel point le choix du modèle correspond au choix du\n",
    "            % participant\n",
    "            if ch(t) == 1 % si le participant a choisi B\n",
    "                lik(t) = 1 - PA(t);\n",
    "            elseif ch(t) == 2 % si le participant a choisi A\n",
    "                lik(t) = PA(t);\n",
    "            end\n",
    "\n",
    "            % calculer l'erreur de prédiction sur la base de la récompense\n",
    "            % délivrée au participant (r)\n",
    "            PE(t) = r(t) - Qt(t,ch(t));\n",
    "\n",
    "            % mise à jour de la valeur\n",
    "            Qt(t+1,ch(t)) = Qt(t,ch(t)) + alpha.*PE(t);    % colonne ch(t) = choisie (1 ou 2)\n",
    "            Qt(t+1,3-ch(t)) = Qt(t,3-ch(t));               % colonne 3-ch(t) = non choisie (2 ou 1)\n",
    "\n",
    "        end\n",
    "\n",
    "        % calculer à quel point les choix du participants étaient probables\n",
    "        % avec ces paramètres du modèle\n",
    "        nLL(a,b) = -sum(log(lik(:)));\n",
    "\n",
    "\n",
    "    end % fin température\n",
    "\n",
    "end % fin taux d'apprentissage\n",
    "\n"
   ]
  },
  {
   "cell_type": "markdown",
   "id": "a4f2dafe-e15b-41db-ac35-5e546852301c",
   "metadata": {},
   "source": [
    "Maintenant que nous avons les valeurs de la vraisemblance négative pour chaque combinaison, il faut juste trouver la combinaison de paramètres qui a généré la plus petite valeur."
   ]
  },
  {
   "cell_type": "code",
   "execution_count": 48,
   "id": "d4394644-8ba5-4ff1-8f94-e3a51cb02669",
   "metadata": {},
   "outputs": [],
   "source": [
    "% obtenir les valeurs de alpha et de la température estimées\n",
    "\n",
    "[I,J] = find(nLL == min(min(nLL)));\n",
    "\n",
    "est_alpha = alpha_mat(I);\n",
    "est_temp = temp_mat(J);\n"
   ]
  },
  {
   "cell_type": "markdown",
   "id": "0edb47d5-8fcf-43ec-8189-15b49726655a",
   "metadata": {},
   "source": [
    "Et finalement, nous pouvons visualiser le résultat de l'estimation à travers un graphique."
   ]
  },
  {
   "cell_type": "code",
   "execution_count": 49,
   "id": "9124c8d4-834e-47ac-855e-989b32b771e4",
   "metadata": {},
   "outputs": [
    {
     "data": {
      "image/png": "[encoded data removed]"
     },
     "execution_count": 49,
     "metadata": {},
     "output_type": "execute_result"
    },
    {
     "name": "stdout",
     "output_type": "stream",
     "text": [
      "alpha =0.31\n",
      "inv. temp =1.5\n"
     ]
    }
   ],
   "source": [
    "%% plot des résultats du grid search\n",
    "\n",
    "figure\n",
    "\n",
    "imagesc(flipud(nLL))\n",
    "hold on\n",
    "xlabel('inverse temperature')\n",
    "ylabel('learning rate')\n",
    "\n",
    "xt = linspace(1,length(temp_mat),11);\n",
    "xtl = linspace(min(temp_mat),max(temp_mat),11);\n",
    "\n",
    "yt = linspace(1,length(alpha_mat),11);\n",
    "ytl = linspace(min(alpha_mat),max(alpha_mat),11);\n",
    "\n",
    "set(gca,'XLim',[1 length(temp_mat)],...\n",
    "    'XTick',xt,...\n",
    "    'XTickLabel',xtl,...\n",
    "    'YLim',[1 length(alpha_mat)],...\n",
    "    'YTick',yt,...\n",
    "    'YTickLabel',fliplr(ytl))\n",
    "\n",
    "\n",
    "cb= colorbar();\n",
    "ylabel(cb,'nLL','FontSize',14)\n",
    "\n",
    "\n",
    "[I,J] = find(nLL == min(min(nLL)));\n",
    "\n",
    "disp(strcat('alpha = ',num2str(alpha_mat(I))))\n",
    "disp(strcat('inv. temp = ',num2str(temp_mat(J))))\n",
    "\n",
    "\n",
    "plot(J,length(alpha_mat)-I,'o',...\n",
    "    'MarkerFaceColor',[1,0,0],...\n",
    "    'MarkerEdgeColor',[1,0,0])\n",
    "\n",
    "\n",
    "\n",
    "c = jet(50);\n",
    "colormap(c);"
   ]
  },
  {
   "cell_type": "markdown",
   "id": "7f40baf1-15d7-4c77-8d56-a5a7944d35fd",
   "metadata": {},
   "source": [
    "Vous pouvez remarquer que les résultats sont similaires mais pas indentiques à la première fois que nous avons exécuté le grid search, cela est dû à la nature stochastique de la randomisation des essais et du processus qui génère la probabilité de choisir et les choix dans le Qmodel."
   ]
  },
  {
   "cell_type": "markdown",
   "id": "4deb2666-b0fe-4ac0-9bf9-6718e167789f",
   "metadata": {},
   "source": [
    "## Méthode 2: Utiliser une fonction d'optimisation\n",
    "\n",
    "La solution typiquement utilisée n'est pas d'explorer systématiquement tout l'espace des paramètres comme dans le grid search, mais d'utiliser une fonction d'optimisation.\n",
    "\n",
    "Nous allons utiliser une fonction qui existe et qui s'appelle *fminsearch*. Cette fonction permet de trouver la valeur minimale de la fonction (comme par exemple notre modèle) et elle renvoie une valeur scalaire.\n",
    "\n",
    "Dans notre cas, nous avons la fonction estimateQ qui reçoit comme input les valeurs des paramètres libres et le comportement du participant, et qui renvoie comme output la vraisemblance négative (`nLL`) de ces paramètres par rapport à la modélisation du comportement du participant.\n",
    "\n",
    "La fonction *fminsearch* commence initialement à un point particulier (que nous devons définir au préalable) et cherche la combinaison de paramètres libres qui permet de minimiser la vraisemblance négative (`nLL`). Elle suit l'approche de l'algorithme du simplexe de Nelder-Mead. \n"
   ]
  },
  {
   "cell_type": "markdown",
   "id": "5a325292-eec5-4570-a019-5b1459f37637",
   "metadata": {},
   "source": [
    "### Code avec fonction d'optimisation pour le Qmodel avec plusieurs blocs d'apprentissage\n",
    "\n",
    "Dans cette partie du code nous allons faire appel à des fonctions et modèle que nous avons dans la partie du grid search :\n",
    "\n",
    "\n",
    "- **dans le dossier \"my_models\" :** il y a une fonction qui s'appelle Qmodel, qui produit des choix simulés du modèle avec certains paramètres libres (`alpha` et `inv_temp`) et certaines caractéristiques de la tâche expérimentale comme le nombre d'essais (`ntrials`) et le nombre de blocs d'apprentissage (`nruns`).\n",
    "\n",
    "- **dans le dossier \"my_functions\" :** il y a une fonction qui s'appelle estimateQ qui nous renvoie la vraisemblance négative, étant donné une combinaison de valeurs des paramètres libres (`param`), des choix (`ch`) et de l'historique des récompenses obtenues (`r`) ainsi que les caractéristiques de la tâche (`nruns`) d'un certain participant.\n",
    "\n",
    "\n",
    "Nous les avons ajoutés dans le \"path\" au début de ce code, donc pas besoin de le refaire. De même, nous avons aussi déjà créé les données de notre participant synthétique et défini les paramètres de la tâche.\n"
   ]
  },
  {
   "cell_type": "markdown",
   "id": "13f4b270-a8f7-48bc-ab58-c4e8b12a7f44",
   "metadata": {},
   "source": [
    "### Code étape 1: définir le point initial pour le search"
   ]
  },
  {
   "cell_type": "code",
   "execution_count": 39,
   "id": "58609133-c04f-450b-be31-0cb7f88e350e",
   "metadata": {},
   "outputs": [],
   "source": [
    "x0 = [1 0.1]; % point initial : la première valeur correspond à la température, la deuxième valeur correspond à alpha\n"
   ]
  },
  {
   "cell_type": "markdown",
   "id": "22990bfb-9f73-4c75-b288-0aff9ccd97c4",
   "metadata": {},
   "source": [
    "### Code étape 2: définir les valeurs limites des nos paramètres libres"
   ]
  },
  {
   "cell_type": "code",
   "execution_count": 35,
   "id": "ce842536-7feb-418d-b862-bde274272137",
   "metadata": {},
   "outputs": [],
   "source": [
    "xmin = [0 0]; % min : la première valeur correspond à la température, la deuxième valeur correspond à alpha\n",
    "xmax = [5 1]; % max : la première valeur correspond à la température, la deuxième valeur correspond à alpha"
   ]
  },
  {
   "cell_type": "markdown",
   "id": "8fab9fc6-5da2-4c0f-b104-b7ff4234b821",
   "metadata": {},
   "source": [
    "### Code étape 3: définir les paramètres de la fonction d'optimisation"
   ]
  },
  {
   "cell_type": "code",
   "execution_count": 38,
   "id": "fdbeff60-ecf6-4019-b8a5-4e00111104b7",
   "metadata": {},
   "outputs": [],
   "source": [
    "% On définit les options de la fonction d'optimisation\n",
    "options = optimset('Algorithm', 'interior-point', 'Display', 'iter-detailed', 'MaxIter', 10000); % Ces valeurs augmentent le nombre d'itérations pour s'assurer d'avoir une convergence\n"
   ]
  },
  {
   "cell_type": "markdown",
   "id": "abe7d83c-90e0-4ca7-8253-c4b60c96532d",
   "metadata": {},
   "source": [
    "### Code étape 4: exécuter la fonction"
   ]
  },
  {
   "cell_type": "code",
   "execution_count": 43,
   "id": "cd82916c-1868-45e9-a65f-b5b0fdf5d58f",
   "metadata": {},
   "outputs": [
    {
     "name": "stdout",
     "output_type": "stream",
     "text": [
      "                                            First-order      Norm of\n",
      " Iter F-count            f(x)  Feasibility   optimality         step\n",
      "    0       3    3.637139e+04    0.000e+00    3.247e+03\n",
      "    1       8    3.541273e+04    0.000e+00    1.606e+02    5.197e-01\n",
      "    2      20    3.541210e+04    0.000e+00    3.657e+01    2.328e-02\n",
      "    3      25    3.541196e+04    0.000e+00    1.233e+02    1.274e-02\n",
      "    4      28    3.541173e+04    0.000e+00    3.826e+00    7.464e-03\n",
      "    5      31    3.541172e+04    0.000e+00    3.233e-01    8.921e-04\n",
      "    6      34    3.541172e+04    0.000e+00    1.000e-01    6.486e-05\n",
      "    7      37    3.541172e+04    0.000e+00    2.000e-02    1.233e-05\n",
      "    8      40    3.541172e+04    0.000e+00    9.630e-03    4.126e-06\n",
      "    9      43    3.541172e+04    0.000e+00    6.670e-03    1.010e-06\n",
      "   10      48    3.541172e+04    0.000e+00    8.401e-04    9.392e-07\n",
      "   11      51    3.541172e+04    0.000e+00    6.513e-03    6.241e-08\n",
      "   12      58    3.541172e+04    0.000e+00    3.038e-03    1.211e-07\n",
      "   13      65    3.541172e+04    0.000e+00    9.346e-04    9.101e-08\n",
      "   14      68    3.541172e+04    0.000e+00    3.218e-03    1.723e-07\n",
      "   15      71    3.541172e+04    0.000e+00    2.715e-03    8.883e-08\n",
      "   16      79    3.541172e+04    0.000e+00    5.509e-03    4.384e-08\n",
      "\n",
      "Optimization stopped because the relative changes in all elements of x are\n",
      "less than options.StepTolerance = 1.000000e-10, and the relative maximum constraint\n",
      "violation, 0.000000e+00, is less than options.ConstraintTolerance = 1.000000e-06.\n",
      "\n"
     ]
    },
    {
     "data": {
      "text/html": [
       "<html><body><pre>parameters = 1x2 double\n",
       "    1.4816    0.3114\n",
       "</pre></body></html>"
      ],
      "text/plain": [
       "parameters = 1x2 double\n",
       "    1.4816    0.3114\n"
      ]
     },
     "execution_count": 43,
     "metadata": {},
     "output_type": "execute_result"
    }
   ],
   "source": [
    "[parameters,nll,~,~,~]       = fmincon(@(x) estimateQ(x,sim_ch,sim_r, nruns),x0,[],[],[],[],xmin,xmax,[],options);\n",
    "parameters"
   ]
  },
  {
   "cell_type": "code",
   "execution_count": null,
   "id": "8a5ed8bb-cd34-4944-8f66-8b62721ae6cf",
   "metadata": {},
   "outputs": [],
   "source": []
  }
 ],
 "metadata": {
  "kernelspec": {
   "display_name": "MATLAB Kernel",
   "language": "matlab",
   "name": "jupyter_matlab_kernel"
  },
  "language_info": {
   "file_extension": ".m",
   "mimetype": "text/x-matlab",
   "name": "matlab"
  }
 },
 "nbformat": 4,
 "nbformat_minor": 5
}
