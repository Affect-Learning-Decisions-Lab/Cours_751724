{
 "cells": [
  {
   "cell_type": "markdown",
   "id": "5caeb7e8-d374-4bad-b8f8-99ab651b60a1",
   "metadata": {},
   "source": [
    "# Estimations des paramètres libres \n",
    "\n",
    "## Tâche expérimentale et modèle\n",
    "La tache que nous utilison pour illuster l'estimation des parametres libres est celle des slot-machines. Nous alons utiliser le modèle Q learning vu dans les cours sur les simulations.\n",
    "\n",
    "\n"
   ]
  },
  {
   "cell_type": "markdown",
   "id": "a76eb871-194e-492e-9ddc-629d6d4d5ced",
   "metadata": {},
   "source": [
    "## Estimations des paramètres\n",
    "\n",
    "L'idée de l'estimation des parametres libres c'est de reussir à identifier la valuer des parametres du modèle (le taux d'apprentissage et la temperature) qui engendre des choix qui ressemblement le plus possibles à celles du participant.\n",
    "\n"
   ]
  },
  {
   "cell_type": "markdown",
   "id": "d534cdc0-1605-453b-b0bb-b4a5884068f0",
   "metadata": {},
   "source": [
    "### Méthode du \"Grid Search\"\n",
    "\n",
    "La première méthode que nous allons utiliser est celle du Grid search, qui consiste à simuler la probabilité de choisir du modèle et voir à quel point elle décrit bien le comportement du participant.\n",
    "\n"
   ]
  },
  {
   "cell_type": "code",
   "execution_count": null,
   "id": "bef63416-00a5-485d-8f6f-5bf59a188855",
   "metadata": {},
   "outputs": [],
   "source": []
  }
 ],
 "metadata": {
  "kernelspec": {
   "display_name": "MATLAB Kernel",
   "language": "matlab",
   "name": "jupyter_matlab_kernel"
  },
  "language_info": {
   "file_extension": ".m",
   "mimetype": "text/x-matlab",
   "name": "matlab"
  }
 },
 "nbformat": 4,
 "nbformat_minor": 5
}
