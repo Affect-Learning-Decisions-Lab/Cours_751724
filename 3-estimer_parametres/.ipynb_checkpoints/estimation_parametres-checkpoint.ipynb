{
 "cells": [
  {
   "cell_type": "markdown",
   "id": "5caeb7e8-d374-4bad-b8f8-99ab651b60a1",
   "metadata": {},
   "source": [
    "# Estimations des paramètres libres \n",
    "\n",
    "## Tâche expérimentale et modèle\n",
    "La tache que nous utilison pour illuster l'estimation des parametres libres est celle des slot-machines. Nous alons utiliser le modèle Q learning vu dans les cours sur les simulations.\n",
    "\n",
    "\n"
   ]
  },
  {
   "cell_type": "markdown",
   "id": "a76eb871-194e-492e-9ddc-629d6d4d5ced",
   "metadata": {},
   "source": [
    "## Estimations des paramètres à travers le \"gridsearch\"\n",
    "\n"
   ]
  },
  {
   "cell_type": "markdown",
   "id": "dacfcc9d-b53f-4f04-b7d8-406989bb7e70",
   "metadata": {},
   "source": [
    "### Définition des variables \"input\"\n",
    "\n",
    "Nous avons deux parametres libres: \n",
    "- le taux d'apprentissage, noté comme alpha\n",
    "- la tempertaure inverse, beta, noté comme inv_temp"
   ]
  },
  {
   "cell_type": "code",
   "execution_count": 35,
   "id": "11314364-f5fe-4ac7-97fb-86bb190a8c7b",
   "metadata": {},
   "outputs": [],
   "source": [
    "alpha      = 0.3;\n",
    "inv_temp   = 1.5;"
   ]
  },
  {
   "cell_type": "markdown",
   "id": "773cc0b4-a542-4038-80d5-691b75ecc1d1",
   "metadata": {},
   "source": [
    "Define the number of trials "
   ]
  },
  {
   "cell_type": "code",
   "execution_count": 36,
   "id": "ab22d3af-e884-40b5-9bb1-bcd248c758ac",
   "metadata": {},
   "outputs": [],
   "source": [
    "ntrials = 24;"
   ]
  },
  {
   "cell_type": "markdown",
   "id": "2f246fc0-16e7-41e8-b4de-8b7ad5ba2318",
   "metadata": {},
   "source": [
    "Definir la valeur initiale de deux états"
   ]
  },
  {
   "cell_type": "code",
   "execution_count": 37,
   "id": "8e03e6e9-90c4-4a18-8955-f628c35830b8",
   "metadata": {},
   "outputs": [],
   "source": [
    "Q0  = [0 0]; % valeur initiale\n"
   ]
  },
  {
   "cell_type": "markdown",
   "id": "8dc47461-8e5d-4691-9238-9030c4568079",
   "metadata": {},
   "source": [
    "Definir la possibilité d'obtenir une récompense pour chaqu'un de deux états\n",
    "- RA c'est les récompense our l'état A,  ce qui sera mis à 1 le 80% des fois\n",
    "- RB c'est les récompense our l'état B,  ce qui sera mis à 1 le 20% des fois\n",
    "- O combine les deux options en deux colonnes dans une matrice de \"récompense obtenibles\""
   ]
  },
  {
   "cell_type": "code",
   "execution_count": 38,
   "id": "d468eb7a-4daf-4968-9b81-34da4292d1b8",
   "metadata": {},
   "outputs": [
    {
     "data": {
      "text/html": [
       "<html><body><pre>O = 24x2 logical array\n",
       "   0   1\n",
       "   0   1\n",
       "   0   1\n",
       "   0   0\n",
       "   0   1\n",
       "   0   1\n",
       "   0   1\n",
       "   0   1\n",
       "   0   1\n",
       "   0   1\n",
       "   0   0\n",
       "   0   1\n",
       "   0   1\n",
       "   0   1\n",
       "   0   1\n",
       "   0   1\n",
       "   0   1\n",
       "   1   1\n",
       "   0   1\n",
       "   0   1\n",
       "   0   1\n",
       "   0   1\n",
       "   1   1\n",
       "   0   1\n",
       "</pre></body></html>"
      ],
      "text/plain": [
       "O = 24x2 logical array\n",
       "   0   1\n",
       "   0   1\n",
       "   0   1\n",
       "   0   0\n",
       "   0   1\n",
       "   0   1\n",
       "   0   1\n",
       "   0   1\n",
       "   0   1\n",
       "   0   1\n",
       "   0   0\n",
       "   0   1\n",
       "   0   1\n",
       "   0   1\n",
       "   0   1\n",
       "   0   1\n",
       "   0   1\n",
       "   1   1\n",
       "   0   1\n",
       "   0   1\n",
       "   0   1\n",
       "   0   1\n",
       "   1   1\n",
       "   0   1\n"
      ]
     },
     "execution_count": 38,
     "metadata": {},
     "output_type": "execute_result"
    }
   ],
   "source": [
    "RA = rand(ntrials,1)<0.8;\n",
    "RB = rand(ntrials,1)<0.2;\n",
    "O = [RB, RA]"
   ]
  },
  {
   "cell_type": "markdown",
   "id": "45dd6100-ab9c-4c39-804b-b4e9a25518cd",
   "metadata": {},
   "source": [
    "### Initialisation des variables \"output\"\n",
    "\n",
    "Nous allons initialiser des vecteurs vides dans lesquels les valuers de chaque variables d'intérêt calculé par le modèle sont sauvé essai par essai. "
   ]
  },
  {
   "cell_type": "code",
   "execution_count": 39,
   "id": "0754911a-a5e5-484c-89a2-73a9a3f1c886",
   "metadata": {},
   "outputs": [],
   "source": [
    "Qt  = nan(ntrials+1, 2);    % valuer pour l'option B (col 1) et l'option A (col 2)\n",
    "PE  = nan(ntrials, 1);      % Erreur de prediction\n",
    "ch  = nan(ntrials, 1);      % choix : 1 = B; 2 = A\n",
    "PA  = nan(ntrials, 1);      % probabilité de choisir A\n",
    "r   = nan(ntrials, 1);      % récompense obtenue"
   ]
  },
  {
   "cell_type": "markdown",
   "id": "a63ba8f0-6c9c-4516-a5d7-94eadc97752e",
   "metadata": {},
   "source": [
    "### Excuter le modèle\n",
    "\n",
    "Le modèle se base sur Rescorla-Wagner pour la mise à jour de la valeur de l'option choisie et sur softmax pour le calcule de la probabilité de choix l'option avec la plus de valuer.\n",
    "\n",
    "Nous allons l'utiliser dans une loop \"**for**\" qui va lire les essais un par un. Et executer les operations suivantes:\n",
    "\n",
    "1. **calculer la probabilité de choisir A:** D'abord il va calculer la probabilité de choisir l'option A en utilisant softmax\n",
    "\n",
    "$ P_A(t) = \\frac{1}{1 + e^{-\\beta \\cdot (Q_t(t,2) - Q_t(t,1))}}$\n",
    "\n",
    "\n",
    "2. **Simuler le choix du modèle** Après on simule le choix fait par le model (1 = B and 2 = A), on introduit un peu de stochasticité dans le choix un utilisant rand(). Si la probabilité de choisir A (entre 0 et 1) est plus grand que un numero alétoire entre 0 et 1, alors on choisi a (1+1) autrement on choisi b (1+0).\n",
    "\n",
    "3. La récompense est délivré selon si une récompense est disponible dans la matrice des récompense délivrables (O) et selon l'action (ch)  qui a été fait (1 ou 2).\n",
    "\n",
    "4. Calcule de l'erreur de prédiction \n",
    "\n",
    "5. Mise à de la valuer de l'option choisie\n"
   ]
  },
  {
   "cell_type": "code",
   "execution_count": 40,
   "id": "ec22c15c-0365-4e7a-bc81-38811511fdda",
   "metadata": {},
   "outputs": [
    {
     "data": {
      "text/html": [
       "<html><body><pre>Qt = 25x2 double\n",
       "     0     0\n",
       "   NaN   NaN\n",
       "   NaN   NaN\n",
       "   NaN   NaN\n",
       "   NaN   NaN\n",
       "   NaN   NaN\n",
       "   NaN   NaN\n",
       "   NaN   NaN\n",
       "   NaN   NaN\n",
       "   NaN   NaN\n",
       "...</pre></body></html>"
      ],
      "text/plain": [
       "Qt = 25x2 double\n",
       "     0     0\n",
       "   NaN   NaN\n",
       "   NaN   NaN\n",
       "   NaN   NaN\n",
       "   NaN   NaN\n",
       "   NaN   NaN\n",
       "   NaN   NaN\n",
       "   NaN   NaN\n",
       "   NaN   NaN\n",
       "   NaN   NaN\n",
       "..."
      ]
     },
     "execution_count": 40,
     "metadata": {},
     "output_type": "execute_result"
    }
   ],
   "source": [
    "Qt(1,:)  = Q0              % initalise Q values\n",
    "\n",
    "% value simulation\n",
    "for t = 1:ntrials\n",
    "    \n",
    "    % 1 calculer la probabilté de choisr A\n",
    "    PA(t)   = 1./(1+exp(-inv_temp.*(Qt(t,2)-Qt(t,1))));\n",
    "    \n",
    "    % 2 simuler le choix du modèle (1 = option B, 2 = option A)\n",
    "    ch(t)   = 1 + double(rand()<PA(t));\n",
    "    \n",
    "    % 3 delivrer la récompense\n",
    "    r(t) = O(t,ch(t));\n",
    "    \n",
    "    % 4 compute prediction error\n",
    "    PE(t) = r(t) - Qt(t,ch(t));\n",
    "    \n",
    "    % 5 update value\n",
    "    Qt(t+1,ch(t)) = Qt(t,ch(t)) + alpha.*PE(t);     % column ch(t) = chosen (1 or 2)\n",
    "    Qt(t+1,3-ch(t)) = Qt(t,3-ch(t));                % column 3-ch(t) = unchosen (2 or 1)\n",
    "    \n",
    "end"
   ]
  },
  {
   "cell_type": "markdown",
   "id": "5dfe610e-5301-434d-a01d-f747e1fa1013",
   "metadata": {},
   "source": [
    "### Representations graphiques des trajectoires temporelles des variables latentes"
   ]
  },
  {
   "cell_type": "code",
   "execution_count": 41,
   "id": "a8f005ca-0fe7-4bb1-abd6-70942d99ac52",
   "metadata": {},
   "outputs": [
    {
     "data": {
      "image/png": "[encoded data removed]"
     },
     "execution_count": 41,
     "metadata": {},
     "output_type": "execute_result"
    }
   ],
   "source": [
    "figure\n",
    "\n",
    "% display the simulation results for predicted value\n",
    "subplot(2, 1, 1)\n",
    "hold on\n",
    "valueA =  plot(Qt(:,1), '-b');\n",
    "plot(Qt(:,1), 'ob', 'MarkerFaceColor', 'b');  % Points noirs pour chaque observation\n",
    "valueB = plot(Qt(:,2), '-r');\n",
    "plot(Qt(:,2), 'or', 'MarkerFaceColor', 'r');  % Points noirs pour chaque observation\n",
    "set(valueA, 'LineWidth', 2);\n",
    "set(valueB, 'LineWidth', 2);\n",
    "\n",
    "xlim([0, ntrials]);\n",
    "ylim([0, 1.1]);\n",
    "xlabel('Essai');\n",
    "ylabel('Valeur attendue');\n",
    "legend([valueA, valueB],'option B','option A','Location','best');\n",
    "\n",
    "% display the simulation results for probability of choosing A\n",
    "subplot(2, 1, 2);\n",
    "hold on\n",
    "pro = plot(PA, '-k');\n",
    "plot(PA, 'ok', 'MarkerFaceColor', 'k');  % Points noirs pour chaque observation\n",
    "set(pro, 'LineWidth', 2);\n",
    "ch = plot(ch-1, 'o','MarkerFaceColor', [0.9290 0.6940 0.1250]);  % Points noirs pour chaque observation);\n",
    "xlim([0, ntrials]);\n",
    "ylim([-0.1, 1.1]);\n",
    "xlabel('Essais');\n",
    "ylabel('Probabilité de choisir A');\n",
    "legend([pro,ch],'probabilité(A)','choix','Location','best');\n"
   ]
  },
  {
   "cell_type": "code",
   "execution_count": null,
   "id": "9aa5a0c7-4d4e-4a22-b61f-66278f9c777e",
   "metadata": {},
   "outputs": [],
   "source": []
  },
  {
   "cell_type": "code",
   "execution_count": null,
   "id": "59636a93-a774-45dd-b4ad-a1c3c66edc57",
   "metadata": {},
   "outputs": [],
   "source": []
  }
 ],
 "metadata": {
  "kernelspec": {
   "display_name": "MATLAB Kernel",
   "language": "matlab",
   "name": "jupyter_matlab_kernel"
  },
  "language_info": {
   "file_extension": ".m",
   "mimetype": "text/x-matlab",
   "name": "matlab"
  }
 },
 "nbformat": 4,
 "nbformat_minor": 5
}
