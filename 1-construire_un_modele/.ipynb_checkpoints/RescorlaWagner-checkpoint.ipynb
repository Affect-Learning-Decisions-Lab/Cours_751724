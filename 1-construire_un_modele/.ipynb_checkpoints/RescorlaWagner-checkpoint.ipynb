{
 "cells": [
  {
   "cell_type": "markdown",
   "id": "ec7effb5-48c3-4de0-8233-e2d48e8470cf",
   "metadata": {},
   "source": [
    "# Modèle de Rescorla-Wagner\n",
    "\n",
    "Dans ce document, nous allons voir en détail l'implémentation du modèle de Rescorla-Wagner dans le cadre d'une tâche de conditionnement pavlovien. \n",
    "\n",
    "## Tâche expérimentale\n",
    "\n",
    "Nous allons utiliser une tâche de conditionnement pavlovien très simple dans laquelle nous avons un seul stimulus conditionné (CS) et deux phases d'apprentissage : acquisition et extinction. Dans la phase d'acquisition, le CS est associé à une récompense, tandis que dans la phase d'extinction, le CS n'est pas associé à une récompense.\n",
    "\n",
    "## Code\n",
    "\n",
    "Nous allons voir en detail le code qui est écrit avec MATLAB. Avant de voir le code, quelques information importantes :\n",
    "\n",
    "1. Dans ce code, il y a des commentaires dont le but est juste d'expliquer ce que nous sommes en train de faire mais qui ne sont pas exécutés. Les commentaires sont identifiables parce qu'ils commencent par le symble : **`%`**\n",
    "\n",
    "2. À la fin de chaque ligne il y a ce symbole: **`;`**. Cela fait en sorte que la commande n'apparaisse pas dans la fenêtre qui imprime les outputs.\n",
    "\n",
    "Maintenant, nous pouvons aller voir le code en détail.\n",
    "\n",
    "\n",
    "### Définition des variables \"input\"\n",
    "\n",
    "Tout d'abord, nous avons une section dans laquelle nous allons définir les variables \"input\" de notre modèle. Les variables \"input\" sont des variables dont on veut pouvoir changer facilement la valeur ; nous les mettons donc au début du code.\n",
    "\n"
   ]
  },
  {
   "cell_type": "markdown",
   "id": "d63c4d2f-769d-4581-aee0-391377b5f85e",
   "metadata": {},
   "source": [
    "La première variable que nous allons définir est le taux d'apprentissage, noté `alpha`."
   ]
  },
  {
   "cell_type": "code",
   "execution_count": 1,
   "id": "bf5befef-6c02-4d50-9a5e-1bcee5a9e22b",
   "metadata": {},
   "outputs": [],
   "source": [
    "% Paramètre libre\n",
    "alpha    = 0.2;\n",
    "\n",
    "\n"
   ]
  },
  {
   "cell_type": "markdown",
   "id": "3bccc3a8-4126-4419-b31d-bbc5014421f2",
   "metadata": {},
   "source": [
    "Ensuite, nous allons définir le nombre d'essais (`ntrials`) total, ainsi que dans la phase d'acquisition (`acq`) et d'extinction (`ext`). \n",
    "<span style=\"background-color: yellow;\">In case it wasn't intentional, here there is a discrepancy between the code cell and the output (code does not print trial but trial present in cell output)</span>"
   ]
  },
  {
   "cell_type": "code",
   "execution_count": 5,
   "id": "e37f1462-01e9-4699-af64-2b04373c1799",
   "metadata": {},
   "outputs": [
    {
     "data": {
      "text/html": [
       "<html><body><pre>trial = 24x1 double\n",
       "     1\n",
       "     2\n",
       "     3\n",
       "     4\n",
       "     5\n",
       "     6\n",
       "     7\n",
       "     8\n",
       "     9\n",
       "    10\n",
       "...</pre></body></html>"
      ],
      "text/plain": [
       "trial = 24x1 double\n",
       "     1\n",
       "     2\n",
       "     3\n",
       "     4\n",
       "     5\n",
       "     6\n",
       "     7\n",
       "     8\n",
       "     9\n",
       "    10\n",
       "..."
      ]
     },
     "execution_count": 5,
     "metadata": {},
     "output_type": "execute_result"
    }
   ],
   "source": [
    "% Nombre d'essais par phase\n",
    "ntrials_acq = 12;\n",
    "ntrials_ext = 12;\n",
    "\n",
    "% Nombre total d'essais\n",
    "ntrials = ntrials_acq + ntrials_ext;\n",
    "\n",
    "trial = (1:ntrials)';"
   ]
  },
  {
   "cell_type": "markdown",
   "id": "06a1e6f5-ede8-4b75-b73f-0ac3e8ba543b",
   "metadata": {},
   "source": [
    "Ensuite, nous allons définir les valeurs initiales de notre modèle, c'est-à-dire la valeur du CS avant que l'apprentissage commence."
   ]
  },
  {
   "cell_type": "code",
   "execution_count": 6,
   "id": "da1c53ad-b6c9-410d-b515-2b8a47786db7",
   "metadata": {},
   "outputs": [],
   "source": [
    "% Valeur initiale\n",
    "v0  = 0; \n"
   ]
  },
  {
   "cell_type": "markdown",
   "id": "310af0ce-8c44-4bf6-8944-367d6fdc1615",
   "metadata": {},
   "source": [
    "### Initialisation des variables \"output\" \n",
    "\n",
    "Avant de faire tourner le modèle, il faut initialiser les variables \"output\" de notre modèle.\n"
   ]
  },
  {
   "cell_type": "markdown",
   "id": "6c126164-fd0f-4343-b61b-193b1d361ec5",
   "metadata": {},
   "source": [
    "Nous allons initialiser un vecteur vide (avec des `NaN` = not a number) dans lequel nous allons enregistrer l'information sur la délivraison des récompenses : 0 si à l'essai il n'y a pas eu de récompense, et 1 si à l'essai il y a eu une récompense."
   ]
  },
  {
   "cell_type": "code",
   "execution_count": 7,
   "id": "9c31e5b6-5714-4c4f-a1bf-1dc0d400a9e0",
   "metadata": {},
   "outputs": [],
   "source": [
    "% Initialiser le vecteur qui contient les récompenses\n",
    "r     = nan(ntrials, 1);\n"
   ]
  },
  {
   "cell_type": "markdown",
   "id": "eab1ea3e-e490-42e9-9f0c-5db02cb0fd91",
   "metadata": {},
   "source": [
    "Enfin, nous allons initialiser deux variables vides dans lesquelles notre modèle va enregistrer les valeurs essai par essai de nos variables latentes : la valeur attendue (`VV`) et l'erreur de prédiction (`PE`)."
   ]
  },
  {
   "cell_type": "code",
   "execution_count": 8,
   "id": "36331bc7-db9e-4c93-913e-8ded0fcbdb68",
   "metadata": {},
   "outputs": [],
   "source": [
    "% Initialiser les vecteurs qui contiendront la valeur attendue et l'erreur de prédiction essai par essai\n",
    "\n",
    "VV  = nan(ntrials, 1); % valeur attendue\n",
    "PE  = nan(ntrials, 1); % erreur de prédiction\n"
   ]
  },
  {
   "cell_type": "markdown",
   "id": "ed6054e8-8e24-4d30-b5da-072fe555d502",
   "metadata": {},
   "source": [
    "### Exécuter le modèle\n",
    "\n",
    "\n",
    "Nous allons utiliser le modèle dans une loop **`for`** qui va lire les essais un par un et exécuter les opérations suivantes :\n",
    "\n",
    "1. D'abord, le modèle va déterminer si dans l'essai en question (`t`) il y a une récompense ou pas. La récompense est administrée si on est dans la phase d'acquisition (`ntrials_acq`) et n'est pas administrée si on est dans la phase d'extinction.\n",
    "\n",
    "2. Ensuite, l'erreur de prédiction est calculée de la manière suivante :  `PE (t)  = dv`\n",
    "\n",
    "3. Ensuite, on enregistre la valeur attendue et la valeur de l'erreur de prédiction à l'essais de la manière suivante : `VV (t)  = v;   PE (t)  = dv;`\n",
    "\n",
    "4. Enfin, la valeur attendue est mise à jour sur la base de l'erreur de prédiction et du taux d'apprentissage (`alpha`) de la manière suivante :  `v = v + alpha * dv`.\n",
    "\n",
    "<span style=\"background-color: yellow;\">There is also a discrepancy here with the two a objects not being produced by the code </span>\n"
   ]
  },
  {
   "cell_type": "code",
   "execution_count": 13,
   "id": "4e90d481-13fa-4dd0-986b-752aaf8ba8bd",
   "metadata": {},
   "outputs": [
    {
     "data": {
      "text/html": [
       "<html><body><pre>a = 1x24 double\n",
       "     1     2     3     4     5     6     7     8     9    10    11    12    13    14    15    16    17    18    19    20    21    22    23    24\n",
       "</pre></body></html>"
      ],
      "text/plain": [
       "a = 1x24 double\n",
       "     1     2     3     4     5     6     7     8     9    10    11    12    13    14    15    16    17    18    19    20    21    22    23    24\n"
      ]
     },
     "execution_count": 13,
     "metadata": {},
     "output_type": "execute_result"
    },
    {
     "data": {
      "text/html": [
       "<html><body><pre>a = 24x1 double\n",
       "     1\n",
       "     2\n",
       "     3\n",
       "     4\n",
       "     5\n",
       "     6\n",
       "     7\n",
       "     8\n",
       "     9\n",
       "    10\n",
       "...</pre></body></html>"
      ],
      "text/plain": [
       "a = 24x1 double\n",
       "     1\n",
       "     2\n",
       "     3\n",
       "     4\n",
       "     5\n",
       "     6\n",
       "     7\n",
       "     8\n",
       "     9\n",
       "    10\n",
       "..."
      ]
     },
     "execution_count": 13,
     "metadata": {},
     "output_type": "execute_result"
    }
   ],
   "source": [
    "v = v0; % valeur du CS avant l'apprentissage\n",
    "\n",
    "for t = 1:ntrials\n",
    "    \n",
    "    if t <= ntrials_acq % essai d'acquisition\n",
    "        r(t) = 1;\n",
    "    else                % essai d'extinction\n",
    "        r(t) = 0;\n",
    "    end\n",
    "    \n",
    "    % calcul de l'erreur de prédiction\n",
    "    dv = r(t) - v;\n",
    "\n",
    "    % enregistrer la valeur attendue à l'essai\n",
    "    VV (t)  = v;\n",
    "\n",
    "    % enregistrer l'erreur de prédiction à l'essai\n",
    "    PE (t)  = dv;\n",
    " \n",
    "    % Modèle de Rescorla-Wagner\n",
    "    v = v + alpha * dv; % mise à jour de la valeur\n",
    "\n",
    "end\n"
   ]
  },
  {
   "cell_type": "markdown",
   "id": "17dc6339-c6f5-420d-b4e7-a6f7e0633d28",
   "metadata": {},
   "source": [
    "\n",
    "Nous pouvons visualiser les variables \"input\" du modèle (essais et récompense) et les variables \"output\" (valeur attendue et erreur de prédiction) :"
   ]
  },
  {
   "cell_type": "code",
   "execution_count": 11,
   "id": "59498f21-f6e5-435f-bec4-811b4322fae2",
   "metadata": {},
   "outputs": [
    {
     "data": {
      "text/html": [
       "<html><head><style>.mwBasicVariableOutputWrapper .mwBasicVariableOutputHeader {font-style: italic;}</style></head><body><div class='mwBasicVariableOutputWrapper'><div>ans = <span class='mwBasicVariableOutputHeader'>24x4 table</span></div><table><thead><tr><th>Essai</th><th>Récompense</th><th>Valeur Attendue</th><th>Erreur de prédiction</th></tr></thead><tbody><tr><td>1</td><td>1</td><td>0</td><td>1</td></tr><tr><td>2</td><td>1</td><td>0.2000</td><td>0.8000</td></tr><tr><td>3</td><td>1</td><td>0.3600</td><td>0.6400</td></tr><tr><td>4</td><td>1</td><td>0.4880</td><td>0.5120</td></tr><tr><td>5</td><td>1</td><td>0.5904</td><td>0.4096</td></tr><tr><td>6</td><td>1</td><td>0.6723</td><td>0.3277</td></tr><tr><td>7</td><td>1</td><td>0.7379</td><td>0.2621</td></tr><tr><td>8</td><td>1</td><td>0.7903</td><td>0.2097</td></tr><tr><td>9</td><td>1</td><td>0.8322</td><td>0.1678</td></tr><tr><td>10</td><td>1</td><td>0.8658</td><td>0.1342</td></tr><tr><td>11</td><td>1</td><td>0.8926</td><td>0.1074</td></tr><tr><td>12</td><td>1</td><td>0.9141</td><td>0.0859</td></tr><tr><td>13</td><td>0</td><td>0.9313</td><td>-0.9313</td></tr><tr><td>14</td><td>0</td><td>0.7450</td><td>-0.7450</td></tr><tr><td>15</td><td>0</td><td>0.5960</td><td>-0.5960</td></tr><tr><td>16</td><td>0</td><td>0.4768</td><td>-0.4768</td></tr><tr><td>17</td><td>0</td><td>0.3815</td><td>-0.3815</td></tr><tr><td>18</td><td>0</td><td>0.3052</td><td>-0.3052</td></tr><tr><td>19</td><td>0</td><td>0.2441</td><td>-0.2441</td></tr><tr><td>20</td><td>0</td><td>0.1953</td><td>-0.1953</td></tr><tr><td>21</td><td>0</td><td>0.1562</td><td>-0.1562</td></tr><tr><td>22</td><td>0</td><td>0.1250</td><td>-0.1250</td></tr><tr><td>23</td><td>0</td><td>0.1000</td><td>-0.1000</td></tr><tr><td>24</td><td>0</td><td>0.0800</td><td>-0.0800</td></tr></tbody></table></div></body></html>"
      ],
      "text/plain": [
       "<html><head><style>.mwBasicVariableOutputWrapper .mwBasicVariableOutputHeader {font-style: italic;}</style></head><body><div class='mwBasicVariableOutputWrapper'><div>ans = <span class='mwBasicVariableOutputHeader'>24x4 table</span></div><table><thead><tr><th>Essai</th><th>Récompense</th><th>Valeur Attendue</th><th>Erreur de prédiction</th></tr></thead><tbody><tr><td>1</td><td>1</td><td>0</td><td>1</td></tr><tr><td>2</td><td>1</td><td>0.2000</td><td>0.8000</td></tr><tr><td>3</td><td>1</td><td>0.3600</td><td>0.6400</td></tr><tr><td>4</td><td>1</td><td>0.4880</td><td>0.5120</td></tr><tr><td>5</td><td>1</td><td>0.5904</td><td>0.4096</td></tr><tr><td>6</td><td>1</td><td>0.6723</td><td>0.3277</td></tr><tr><td>7</td><td>1</td><td>0.7379</td><td>0.2621</td></tr><tr><td>8</td><td>1</td><td>0.7903</td><td>0.2097</td></tr><tr><td>9</td><td>1</td><td>0.8322</td><td>0.1678</td></tr><tr><td>10</td><td>1</td><td>0.8658</td><td>0.1342</td></tr><tr><td>11</td><td>1</td><td>0.8926</td><td>0.1074</td></tr><tr><td>12</td><td>1</td><td>0.9141</td><td>0.0859</td></tr><tr><td>13</td><td>0</td><td>0.9313</td><td>-0.9313</td></tr><tr><td>14</td><td>0</td><td>0.7450</td><td>-0.7450</td></tr><tr><td>15</td><td>0</td><td>0.5960</td><td>-0.5960</td></tr><tr><td>16</td><td>0</td><td>0.4768</td><td>-0.4768</td></tr><tr><td>17</td><td>0</td><td>0.3815</td><td>-0.3815</td></tr><tr><td>18</td><td>0</td><td>0.3052</td><td>-0.3052</td></tr><tr><td>19</td><td>0</td><td>0.2441</td><td>-0.2441</td></tr><tr><td>20</td><td>0</td><td>0.1953</td><td>-0.1953</td></tr><tr><td>21</td><td>0</td><td>0.1562</td><td>-0.1562</td></tr><tr><td>22</td><td>0</td><td>0.1250</td><td>-0.1250</td></tr><tr><td>23</td><td>0</td><td>0.1000</td><td>-0.1000</td></tr><tr><td>24</td><td>0</td><td>0.0800</td><td>-0.0800</td></tr></tbody></table></div></body></html>"
      ]
     },
     "execution_count": 11,
     "metadata": {},
     "output_type": "execute_result"
    }
   ],
   "source": [
    "table(trial,r,VV,PE,...\n",
    "               'VariableNames',{'Essai','Récompense', 'Valeur Attendue', 'Erreur de prédiction'})"
   ]
  },
  {
   "cell_type": "markdown",
   "id": "16593e00-40cc-4a30-9e3f-540e97fcfe8e",
   "metadata": {
    "tags": []
   },
   "source": [
    "### Représentations graphiques des trajectoires temporelles des variables latentes\n",
    "\n",
    "Pour finir, nous pouvons créer un graphique qui nous montre les trajectoires temporelles des nos variables latentes : valeur attendue et erreur de prédiction."
   ]
  },
  {
   "cell_type": "code",
   "execution_count": 13,
   "id": "9ba00cfa-9b4d-48bf-afca-22beefd95d1e",
   "metadata": {},
   "outputs": [
    {
     "data": {
      "image/png": "[encoded data removed]"
     },
     "execution_count": 13,
     "metadata": {},
     "output_type": "execute_result"
    }
   ],
   "source": [
    "\n",
    "figure\n",
    "\n",
    "% Afficher les résultats de la simulation pour la valeur attendue\n",
    "subplot(2, 1, 1)\n",
    "value = plot(VV, '-k');  % Ligne noire reliant les points\n",
    "hold on\n",
    "plot(VV, 'ok', 'MarkerFaceColor', 'k');  % Points noirs pour chaque observation\n",
    "xline(12, '--k', 'LineWidth', 1);  % Ligne verticale en pointillés au 12ème essai\n",
    "set(value, 'LineWidth', 2);\n",
    "xlim([0, ntrials]);\n",
    "ylim([0, 1.1]);\n",
    "xlabel('essais');\n",
    "ylabel('Valeur attendue (V)');\n",
    "legend(value, ['alpha = ', num2str(alpha)]);\n",
    "hold off\n",
    "\n",
    "% Afficher les résultats de la simulation pour l'erreur de prédiction\n",
    "subplot(2, 1, 2);\n",
    "prediction_error = plot(PE, '-k');  % Ligne noire reliant les points\n",
    "hold on\n",
    "plot(PE, 'ok', 'MarkerFaceColor', 'k');  % Points noirs pour chaque observation\n",
    "xline(12, '--k', 'LineWidth', 1);  % Ligne verticale en pointillés au 12ème essai\n",
    "\n",
    "set(prediction_error, 'LineWidth', 2);\n",
    "xlim([0, ntrials]);\n",
    "ylim([-1.1, 1.1]);\n",
    "xlabel('essais');\n",
    "ylabel('Erreur de prédiction');\n",
    "hold off\n",
    "\n"
   ]
  },
  {
   "cell_type": "code",
   "execution_count": null,
   "id": "65c5f134-8a36-4402-8d3e-d00fa438c2d4",
   "metadata": {},
   "outputs": [],
   "source": []
  }
 ],
 "metadata": {
  "kernelspec": {
   "display_name": "MATLAB Kernel",
   "language": "matlab",
   "name": "jupyter_matlab_kernel"
  },
  "language_info": {
   "file_extension": ".m",
   "mimetype": "text/x-matlab",
   "name": "matlab"
  }
 },
 "nbformat": 4,
 "nbformat_minor": 5
}
