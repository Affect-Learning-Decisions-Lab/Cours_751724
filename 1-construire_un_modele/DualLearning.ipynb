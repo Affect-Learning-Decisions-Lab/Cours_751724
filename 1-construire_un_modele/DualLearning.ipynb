{
 "cells": [
  {
   "cell_type": "markdown",
   "id": "f5943118-767a-424f-b467-d6b3e2458586",
   "metadata": {},
   "source": [
    "# Modèle de Rescorla-Wagner avec double taux d'apprentissage\n",
    "\n",
    "Dans ce document, nous allons voir en détail l'implémentation du modèle de Rescorla-Wagner avec double taux d'apprentissage dans le cadre d'une tâche de conditionnement Pavlovien. \n",
    "\n",
    "### Définition des variables \"input\"\n",
    "\n",
    "Tout d'abord, nous avons une section dans laquelle nous allons définir les variables \"input\" de notre modèle. Les variables \"input\" sont des variables dont on veut pouvoir changer facilement la valeur ; nous les mettons donc au début du code.\n",
    "\n",
    "La première variable que nous allons définir est le taux d'apprentissage, noté `alpha`.\n",
    "\n"
   ]
  },
  {
   "cell_type": "code",
   "execution_count": 36,
   "id": "e52b3ca7-3f5c-48f1-bfc5-943be7546220",
   "metadata": {},
   "outputs": [],
   "source": [
    "% Paramètres libres\n",
    "alphaE      = 0.8;\n",
    "alphaI      = 0.1;\n",
    "\n"
   ]
  },
  {
   "cell_type": "markdown",
   "id": "1dd50e68-3c35-45af-8fb9-2d37e0947910",
   "metadata": {},
   "source": [
    "Ensuite, nous allons définir le nombre d'essais (`ntrials`) total, ainsi que dans la phase d'acquisition (`acq`) et d'extinction (`ext`). "
   ]
  },
  {
   "cell_type": "code",
   "execution_count": 8,
   "id": "a5343978-cd09-4f28-8f50-be43a19aed49",
   "metadata": {},
   "outputs": [],
   "source": [
    "% Nombre d'essais par phase\n",
    "ntrials_acq = 12;\n",
    "ntrials_ext = 12;\n",
    "\n",
    "% Nombre total d'essais\n",
    "ntrials = ntrials_acq + ntrials_ext;\n"
   ]
  },
  {
   "cell_type": "markdown",
   "id": "36b5bb87-8bd9-454b-af4e-90b58d87fef5",
   "metadata": {},
   "source": [
    "Ensuite, nous allons définir les valeurs initiales de notre modèle, c'est-à-dire la valeur du CS avant que l'apprentissage commence."
   ]
  },
  {
   "cell_type": "code",
   "execution_count": 9,
   "id": "68be8497-d785-4f6a-bb23-8d94011b4770",
   "metadata": {},
   "outputs": [],
   "source": [
    "% Valeur initiale\n",
    "v0  = 0; \n"
   ]
  },
  {
   "cell_type": "markdown",
   "id": "e59e8f4c-ff61-466b-addb-332b73a04a23",
   "metadata": {},
   "source": [
    "### Initialisation des variables \"output\" \n",
    "\n",
    "Avant de faire tourner le modèle, il faut initialiser les variables \"output\" de notre modèle.\n",
    "\n",
    "Nous allons initialiser un vecteur vide (avec des `NaN` = not a number) dans lequel vous allons enregistrer l'information sur la délivraison des récompenses : 0 si à l'essai il n'y a pas eu de récompense, et 1 si à l'essai il y a eu une récompense.\n"
   ]
  },
  {
   "cell_type": "code",
   "execution_count": 35,
   "id": "5162e573-1791-4d71-952d-203624197ff8",
   "metadata": {},
   "outputs": [],
   "source": [
    "% Initialiser le vecteur qui contient les récompenses\n",
    "\n",
    "r     = nan(ntrials, 1);\n",
    "\n"
   ]
  },
  {
   "cell_type": "markdown",
   "id": "b9a3612f-40a9-4c5f-97bd-77ce8e91f9b2",
   "metadata": {},
   "source": [
    "Enfin, nous allons initialiser deux variables vides dans lesquelles notre modèle va enregistrer les valeurs essai par essai de nos variables latentes : la valeur attendue (`VV`) et l'erreur de prédiction (`PE`)."
   ]
  },
  {
   "cell_type": "code",
   "execution_count": 11,
   "id": "18af8d78-f148-4751-8a32-8514d9ab7683",
   "metadata": {},
   "outputs": [],
   "source": [
    "% Initialiser les vecteurs qui contiendront la valeur attendue et l'erreur de prédiction essai par essai\n",
    "\n",
    "VV  = nan(ntrials, 1); % valeur attendue\n",
    "PE  = nan(ntrials, 1); % erreur de prédiction\n"
   ]
  },
  {
   "cell_type": "markdown",
   "id": "16041abd-edf2-42d6-b59e-6d29a783ad1d",
   "metadata": {},
   "source": [
    "### Exécuter le modèle\n",
    "\n",
    "\n",
    "Nous allons utiliser le modèle dans une loop **`for`** qui va lire les essais un par un et exécuter les opérations suivantes :\n",
    "\n",
    "1. D'abord, le modèle va déterminer si dans l'essai en question (`t`) il y a une récompense ou pas. La récompense est administrée si on est dans la phase d'acquisition (`ntrials_acq`) et n'est pas administrée si on est dans la phase d'extinction.\n",
    "\n",
    "3. Ensuite, on enregistre la valeur attendue et la valeur de l'erreur de prédiction à l'essai de la manière suivante : `VV (t)  = v;   PE (t)  = dv;`\n",
    "\n",
    "4. Enfin, la valeur attendue est mise à jour sur la base de l'erreur de prédiction. Cette opération est faite séparément pour les essais dans lesquels l'erreur de prédiction est négative  (`v = v + alphaI * dv`) et pour les essais dans lesquels l'erreur de prédiction est positive (`v = v + alphaE * dv`).\n",
    "\n"
   ]
  },
  {
   "cell_type": "code",
   "execution_count": 29,
   "id": "2f82471d-a5e2-4aba-a01b-aee10036a47a",
   "metadata": {},
   "outputs": [],
   "source": [
    "v = v0; % valeur du CS avant l'apprentissage\n",
    "\n",
    "for t = 1:ntrials\n",
    "    \n",
    "    if t <= ntrials_acq % essai d'acquisition\n",
    "        r(t) = 1;\n",
    "    else                % essai d'extinction\n",
    "        r(t) = 0;\n",
    "    end\n",
    "    \n",
    "    % calcul de l'erreur de prédiction\n",
    "    dv = r(t) - v;\n",
    "\n",
    "    % enregistrer la valeur attendue à l'essai\n",
    "    VV (t)  = v;\n",
    "\n",
    "    % enregistrer l'erreur de prédiction à l'essai\n",
    "    PE (t)  = dv;\n",
    " \n",
    "    % Modèle de Rescorla-Wagner avec double taux d'apprentissage\n",
    "    if dv > 0 % si l'erreur de prédiction est positive\n",
    "        v = v + alphaE * dv;\n",
    "    else % si l'erreur de prédiction est négative\n",
    "        v = v + alphaI * dv;\n",
    "    end\n",
    "\n",
    "end"
   ]
  },
  {
   "cell_type": "markdown",
   "id": "374190a7-d19e-47d5-b8ca-739d69eed790",
   "metadata": {},
   "source": [
    "### Représentations graphiques des trajectoires temporelles des variables latentes\n",
    "\n",
    "Pour finir, nous pouvons créer un graphique qui nous montre les trajectoires temporelles de nos variables latentes : valeur attendue et erreur de prédiction."
   ]
  },
  {
   "cell_type": "code",
   "execution_count": 39,
   "id": "859a81be-8c1a-4b80-a987-d03c8ee24d77",
   "metadata": {},
   "outputs": [
    {
     "data": {
      "image/png": "[encoded data removed]"
     },
     "execution_count": 39,
     "metadata": {},
     "output_type": "execute_result"
    }
   ],
   "source": [
    "figure\n",
    "\n",
    "% Afficher les résultats de la simulation pour la valeur attendue\n",
    "subplot(2, 1, 1)\n",
    "value = plot(VV, '-k');  % Ligne noire reliant les points\n",
    "hold on\n",
    "plot(VV, 'ok', 'MarkerFaceColor', 'k');  % Points noirs pour chaque observation\n",
    "xline(12, '--k', 'LineWidth', 1);  % Ligne verticale en pointillés au 12ème essai\n",
    "set(value, 'LineWidth', 2);\n",
    "xlim([0, ntrials]);\n",
    "ylim([0, 1.1]);\n",
    "xlabel('essais');\n",
    "ylabel('Valeur attendue (V)');\n",
    "legend([value],['\\alpha+ = ', num2str(alphaE), '; \\alpha- = ', num2str(alphaI)]);\n",
    "\n",
    "hold off\n",
    "\n",
    "% Afficher les résultats de la simulation pour l'erreur de prédiction\n",
    "subplot(2, 1, 2);\n",
    "prediction_error = plot(PE, '-k');  % Ligne noire reliant les points\n",
    "hold on\n",
    "plot(PE, 'ok', 'MarkerFaceColor', 'k');  % Points noirs pour chaque observation\n",
    "xline(12, '--k', 'LineWidth', 1);  % Ligne verticale en pointillés au 12ème essai\n",
    "\n",
    "set(prediction_error, 'LineWidth', 2);\n",
    "xlim([0, ntrials]);\n",
    "ylim([-1.1, 1.1]);\n",
    "xlabel('essais');\n",
    "ylabel('Erreur de prédiction');\n",
    "hold off\n",
    "\n"
   ]
  }
 ],
 "metadata": {
  "kernelspec": {
   "display_name": "MATLAB Kernel",
   "language": "matlab",
   "name": "jupyter_matlab_kernel"
  },
  "language_info": {
   "file_extension": ".m",
   "mimetype": "text/x-matlab",
   "name": "matlab"
  }
 },
 "nbformat": 4,
 "nbformat_minor": 5
}
