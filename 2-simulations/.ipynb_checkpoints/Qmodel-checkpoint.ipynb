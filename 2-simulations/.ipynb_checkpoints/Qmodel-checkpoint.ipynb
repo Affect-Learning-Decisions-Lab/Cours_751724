{
 "cells": [
  {
   "cell_type": "markdown",
   "id": "5caeb7e8-d374-4bad-b8f8-99ab651b60a1",
   "metadata": {},
   "source": [
    "# Modèle Q\n",
    "\n",
    "## Tâche expérimentale\n",
    "\n",
    "Dans cette tâche, deux machines à sous sont présentées à chaque essai, chacune associée à une certaine probabilité de récompense.  Les probabilités de gain des machines A et B sont définie par nous, les expérimentateurs. Il y a toujours une \"bonne\" et une \"mauvaise\" option. La probabilité de gain lorsque le participant choisit la machine à forte rémunération est toujours de 80 %. La probabilité de récompense lorsque le participant choisit la machine à faible récompense n'était que de 20 %. C'est une tâche Markovienne, cela signique que le retour d'information que vous obtenez dépend UNIQUEMENT de la machine à sous choisie (A ou B) et ne dépend donc pas de l'emplacement, ni des choix précédents.\n",
    "\n",
    "\n"
   ]
  },
  {
   "cell_type": "markdown",
   "id": "a6e2baa9-ee48-4e95-9286-a460c827b693",
   "metadata": {},
   "source": [
    "## Code du modèle \n",
    "\n",
    "### Définition des variables d'entrée\n",
    "\n",
    "Nous avons deux paramètres libres: \n",
    "- le taux d'apprentissage, noté comme alpha\n",
    "- la température inverse, noté comme inv_temp"
   ]
  },
  {
   "cell_type": "code",
   "execution_count": 29,
   "id": "11314364-f5fe-4ac7-97fb-86bb190a8c7b",
   "metadata": {},
   "outputs": [],
   "source": [
    "alpha      = 0.3;\n",
    "inv_temp   = 3;"
   ]
  },
  {
   "cell_type": "markdown",
   "id": "773cc0b4-a542-4038-80d5-691b75ecc1d1",
   "metadata": {},
   "source": [
    "Nombre d'essais de la tâche"
   ]
  },
  {
   "cell_type": "code",
   "execution_count": 30,
   "id": "ab22d3af-e884-40b5-9bb1-bcd248c758ac",
   "metadata": {},
   "outputs": [],
   "source": [
    "ntrials = 24;"
   ]
  },
  {
   "cell_type": "markdown",
   "id": "2f246fc0-16e7-41e8-b4de-8b7ad5ba2318",
   "metadata": {},
   "source": [
    "Valeur initiale de deux machines à sous (A et B)"
   ]
  },
  {
   "cell_type": "code",
   "execution_count": 31,
   "id": "8e03e6e9-90c4-4a18-8955-f628c35830b8",
   "metadata": {},
   "outputs": [],
   "source": [
    "Q0  = [0 0]; % valeur initiale\n"
   ]
  },
  {
   "cell_type": "markdown",
   "id": "8dc47461-8e5d-4691-9238-9030c4568079",
   "metadata": {},
   "source": [
    "Définir la possibilité d'obtenir une récompense pour chacune des machines à sous :\n",
    "- RA correspond aux récompenses pour la machine à sous A, elle vaudra 1 80% des fois ce qui sera mis à 1 dans 80% des fois \n",
    "- RB correspond aux récompenses pour la machine à sous B, elle vaudra 1 20% des fois ce qui sera mis à 1 dans 20% des fois\n",
    "- O combine les deux options en deux colonnes dans une matrice de \"récompenses obtenables\""
   ]
  },
  {
   "cell_type": "code",
   "execution_count": 32,
   "id": "d468eb7a-4daf-4968-9b81-34da4292d1b8",
   "metadata": {},
   "outputs": [
    {
     "data": {
      "text/html": [
       "<html><body><pre>O = 24x2 logical array\n",
       "   0   1\n",
       "   1   1\n",
       "   0   1\n",
       "   1   1\n",
       "   0   0\n",
       "   0   1\n",
       "   0   1\n",
       "   0   1\n",
       "   1   1\n",
       "   0   1\n",
       "   0   1\n",
       "   0   1\n",
       "   0   0\n",
       "   1   0\n",
       "   0   1\n",
       "   0   0\n",
       "   0   1\n",
       "   0   0\n",
       "   0   1\n",
       "   0   1\n",
       "   0   0\n",
       "   0   1\n",
       "   0   0\n",
       "   0   0\n",
       "</pre></body></html>"
      ],
      "text/plain": [
       "O = 24x2 logical array\n",
       "   0   1\n",
       "   1   1\n",
       "   0   1\n",
       "   1   1\n",
       "   0   0\n",
       "   0   1\n",
       "   0   1\n",
       "   0   1\n",
       "   1   1\n",
       "   0   1\n",
       "   0   1\n",
       "   0   1\n",
       "   0   0\n",
       "   1   0\n",
       "   0   1\n",
       "   0   0\n",
       "   0   1\n",
       "   0   0\n",
       "   0   1\n",
       "   0   1\n",
       "   0   0\n",
       "   0   1\n",
       "   0   0\n",
       "   0   0\n"
      ]
     },
     "execution_count": 32,
     "metadata": {},
     "output_type": "execute_result"
    }
   ],
   "source": [
    "RA = rand(ntrials,1)<0.8;\n",
    "RB = rand(ntrials,1)<0.2;\n",
    "O = [RB, RA]"
   ]
  },
  {
   "cell_type": "markdown",
   "id": "45dd6100-ab9c-4c39-804b-b4e9a25518cd",
   "metadata": {},
   "source": [
    "### Initialisation des variables de sortie\n",
    "\n",
    "Nous allons initialiser des vecteurs vides dans lesquels les valeurs de chaque variable d'intérêt calculée par le modèle seront sauvées essai par essai."
   ]
  },
  {
   "cell_type": "code",
   "execution_count": 40,
   "id": "0754911a-a5e5-484c-89a2-73a9a3f1c886",
   "metadata": {},
   "outputs": [],
   "source": [
    "Qt  = nan(ntrials+1, 2);    % valuer pour l'option B (col 1) et l'option A (col 2)\n",
    "PE  = nan(ntrials, 1);      % Erreur de prediction\n",
    "ch  = nan(ntrials, 1);      % choix : 1 = B; 2 = A\n",
    "PA  = nan(ntrials, 1);      % probabilité de choisir A\n",
    "r   = nan(ntrials, 1);      % récompense obtenue"
   ]
  },
  {
   "cell_type": "markdown",
   "id": "a63ba8f0-6c9c-4516-a5d7-94eadc97752e",
   "metadata": {
    "tags": []
   },
   "source": [
    "### Exécuter le modèle\n",
    "\n",
    "Le modèle se base sur Rescorla-Wagner pour la mise à jour de la valeur de l'option choisie et sur softmax pour le calcul de la probabilité de choisir l'option avec la plus haute valeur.\n",
    "\n",
    "Nous allons l'utiliser dans une boucle`for` qui va lire les essais un par un et exécuter les opérations suivantes :\n",
    "\n",
    "1. **Calculer la probabilité de choisir A :** D'abord, il va calculer la probabilité de choisir l'option A en utilisant la fonction softmax (voir à la fin pour un approfondissement de cette fonction).\n",
    "\n",
    "$$\n",
    "P_A(t) = \\frac{1}{1 + e^{-\\beta \\cdot (Q_t(t,2) - Q_t(t,1))}}\n",
    "$$\n",
    "\n",
    "\n",
    "2. **Simuler le choix du modèle :** Ensuite, on simule le choix fait par le modèle (1 = B et 2 = A). On introduit un peu de stochasticité dans le choix en utilisant rand(). Si la probabilité de choisir A (entre 0 et 1) est plus grande qu'un nombre aléatoire entre 0 et 1, alors on choisit A (1+1), sinon on choisit B (1+0).\n",
    "\n",
    "3. **Délivrer la récompense :** La récompense est délivrée si une récompense est disponible dans la matrice des récompenses délivrables (O) et si l'action (`ch`) qui a été faite (1 ou 2).\n",
    "\n",
    "4. **Calculer de l'erreur de prédiction :** Différence entre la valeur attendue et la récompense observée\n",
    "\n",
    "5. **Mise à jour de la valeur de l'option choisie :** Mise à jour de la valeur selon le modèle de Rescorla-Wagner.\n"
   ]
  },
  {
   "cell_type": "code",
   "execution_count": 41,
   "id": "ec22c15c-0365-4e7a-bc81-38811511fdda",
   "metadata": {},
   "outputs": [
    {
     "data": {
      "text/html": [
       "<html><body><pre>Qt = 25x2 double\n",
       "         0         0\n",
       "         0    0.3000\n",
       "    0.3000    0.3000\n",
       "    0.2100    0.3000\n",
       "    0.2100    0.5100\n",
       "    0.2100    0.3570\n",
       "    0.1470    0.3570\n",
       "    0.1029    0.3570\n",
       "    0.1029    0.5499\n",
       "    0.1029    0.6849\n",
       "...</pre></body></html>"
      ],
      "text/plain": [
       "Qt = 25x2 double\n",
       "         0         0\n",
       "         0    0.3000\n",
       "    0.3000    0.3000\n",
       "    0.2100    0.3000\n",
       "    0.2100    0.5100\n",
       "    0.2100    0.3570\n",
       "    0.1470    0.3570\n",
       "    0.1029    0.3570\n",
       "    0.1029    0.5499\n",
       "    0.1029    0.6849\n",
       "..."
      ]
     },
     "execution_count": 41,
     "metadata": {},
     "output_type": "execute_result"
    }
   ],
   "source": [
    "Qt(1,:)  = Q0 ;             % initalise Q values\n",
    "\n",
    "% value simulation\n",
    "for t = 1:ntrials\n",
    "    \n",
    "    % 1 calculer la probabilté de choisir A\n",
    "    PA(t)   = 1./(1+exp(-inv_temp.*(Qt(t,2)-Qt(t,1))));\n",
    "    \n",
    "    % 2 simuler le choix du modèle (1 = option B, 2 = option A)\n",
    "    ch(t)   = 1 + double(rand()<PA(t));\n",
    "    \n",
    "    % 3 délivrer la récompense\n",
    "    r(t)    = O(t,ch(t));\n",
    "    \n",
    "    % 4 calculer l'erreur de prédiction\n",
    "    PE(t)   = r(t) - Qt(t,ch(t));\n",
    "    \n",
    "    % 5 mise à jour de la valeur\n",
    "    Qt(t+1,ch(t)) = Qt(t,ch(t)) + alpha.*PE(t);     % column ch(t) = choisit (1 or 2)\n",
    "    Qt(t+1,3-ch(t)) = Qt(t,3-ch(t));                % column 3-ch(t) = pas choisit (2 or 1)\n",
    "    \n",
    "end\n",
    "\n",
    "Qt"
   ]
  },
  {
   "cell_type": "markdown",
   "id": "5dfe610e-5301-434d-a01d-f747e1fa1013",
   "metadata": {},
   "source": [
    "### Représentations graphiques des trajectoires temporelles des variables latentes\n"
   ]
  },
  {
   "cell_type": "code",
   "execution_count": 42,
   "id": "a8f005ca-0fe7-4bb1-abd6-70942d99ac52",
   "metadata": {},
   "outputs": [
    {
     "data": {
      "image/png": "[encoded data removed]"
     },
     "execution_count": 42,
     "metadata": {},
     "output_type": "execute_result"
    }
   ],
   "source": [
    "figure\n",
    "\n",
    "% afficher les résultats de la simulation pour les valeurs prédites\n",
    "subplot(2, 1, 1)\n",
    "hold on\n",
    "valueA =  plot(Qt(:,1), '-b');\n",
    "plot(Qt(:,1), 'ob', 'MarkerFaceColor', 'b');  % Points bleus pour chaque observation\n",
    "valueB = plot(Qt(:,2), '-r');\n",
    "plot(Qt(:,2), 'or', 'MarkerFaceColor', 'r');  % Points rouges pour chaque observation\n",
    "set(valueA, 'LineWidth', 2);\n",
    "set(valueB, 'LineWidth', 2);\n",
    "\n",
    "xlim([0, ntrials]);\n",
    "ylim([0, 1.1]);\n",
    "xlabel('Essai');\n",
    "ylabel('Valeur attendue');\n",
    "legend([valueA, valueB],'option B','option A','Location','best');\n",
    "\n",
    "%  afficher les résultats de la simulation pour la probabilité de choisir A\n",
    "subplot(2, 1, 2);\n",
    "hold on\n",
    "pro = plot(PA, '-k');\n",
    "plot(PA, 'ok', 'MarkerFaceColor', 'k');  % Points noirs pour chaque observation\n",
    "set(pro, 'LineWidth', 2);\n",
    "ch = plot(ch-1, 'o','MarkerFaceColor', [0.9290 0.6940 0.1250]);  % Points jaunes pour chaque observation);\n",
    "xlim([0, ntrials]);\n",
    "ylim([-0.1, 1.1]);\n",
    "xlabel('Essais');\n",
    "ylabel('Probabilité de choisir A');\n",
    "legend([pro,ch],'probabilité(A)','choix','Location','best');\n"
   ]
  },
  {
   "cell_type": "markdown",
   "id": "d21b1409-7538-443e-8504-32369a1121c5",
   "metadata": {},
   "source": [
    "### Approfondissement sur la fonction softmax"
   ]
  },
  {
   "cell_type": "markdown",
   "id": "782b3af0-208b-4df1-8ea1-14789638454e",
   "metadata": {},
   "source": [
    "Au début de chaque essai, le participant doit décider, sur la base de deux valeurs (Q de la machine à sous A et Q de la machine à sous B), quelle machine choisir? Il y a deux options:\n",
    "\n",
    "- toujours choisir le stimulus ayant la valeur la plus élevée\n",
    "- parfois chercher à savoir si l'autre machine s'est améliorée\n",
    "\n",
    "Même si la première option conduit à la plus grande récompense, les individus n'utilisent généralement pas cette stratégie de \"maximisation de la probabilité\" (c'est-à-dire choisir le stimulus avec la plus grande probabilité de récompense). Ils choisissent plutôt le stimulus ayant la probabilité la plus élevée, mais pas tout le temps, de temps en temps, ils explorent l'autre option.\n",
    "Cependant, il y a des différences interindividuelles dans la façon dont les individuent explorent. Pour modéliser la manière dont les individus traduisent les valeurs apprises en un choix, nous utiliserons un modèle capable de rendre compte de ces différentes stratégies avec la function softmax. "
   ]
  },
  {
   "cell_type": "markdown",
   "id": "71e23ed8-6d4f-459a-8610-f11984df8bfe",
   "metadata": {},
   "source": [
    "Dans le cas notre tâche experimentale, softmax calcule la probabilité de choisir A étant donné la valuer de la machine à sous A ($Q_A$) et la valeur de la machine à sous B ($Q_B$) comme suit: "
   ]
  },
  {
   "cell_type": "markdown",
   "id": "c9d796a9-58e5-4a9a-a39e-0bfe74788c85",
   "metadata": {},
   "source": [
    "\n",
    "$$\n",
    "p(A) = \\frac{e^{\\beta \\cdot Q_A}}{e^{\\beta \\cdot Q_A}+e^{\\beta \\cdot Q_B}} \n",
    "$$\n"
   ]
  },
  {
   "cell_type": "markdown",
   "id": "8a5ed19e-f395-46e4-9da0-539f74a3df34",
   "metadata": {},
   "source": [
    "Ou\n",
    "\n",
    "- $\\beta$ est le paramètre de température inverse, qui contrôle le niveau d'exploration \n",
    "- $Q_B$ est la valeur associée à la machine à sous B.\n"
   ]
  },
  {
   "cell_type": "markdown",
   "id": "b7d48652-55cd-4de6-b218-6fb2e5a98414",
   "metadata": {},
   "source": [
    "Dans le code nous allons formuler softmax comme suit:\n",
    "\n",
    "$$ \n",
    "P_A(t) = \\frac{1}{1+e^{-\\beta \\cdot (Q_t(t,2) - Q_t(t,1))}} \n",
    "$$"
   ]
  },
  {
   "cell_type": "markdown",
   "id": "d2543ca8-fd1a-4bf1-af98-d87d2b90a309",
   "metadata": {},
   "source": [
    "Allons maitentant voir concrètement l'impact du paramètre sur la probabilité de choisir la machine B. Pour celà, nous allons définir trois valuers de $\\beta$"
   ]
  },
  {
   "cell_type": "code",
   "execution_count": 61,
   "id": "a3c2a1c6-2671-4449-bd85-8424346b0b67",
   "metadata": {},
   "outputs": [
    {
     "data": {
      "text/html": [
       "<html><body><pre>betaArray = 1x3 double\n",
       "     1     3    10\n",
       "</pre></body></html>"
      ],
      "text/plain": [
       "betaArray = 1x3 double\n",
       "     1     3    10\n"
      ]
     },
     "execution_count": 61,
     "metadata": {},
     "output_type": "execute_result"
    }
   ],
   "source": [
    "betaArray = [1 3 10]"
   ]
  },
  {
   "cell_type": "markdown",
   "id": "d4baffe1-bbe2-4daf-9250-3c684ac2e66a",
   "metadata": {},
   "source": [
    "Nous allons en suite définir des valeur de A et B"
   ]
  },
  {
   "cell_type": "code",
   "execution_count": 62,
   "id": "345bf883-edd6-4d42-8605-62117feb002f",
   "metadata": {},
   "outputs": [],
   "source": [
    "QA = 0:0.02:1;\n",
    "QB = 1 - QA;\n"
   ]
  },
  {
   "cell_type": "markdown",
   "id": "b3e6891d-b4ae-444a-bc3e-c42ffd224420",
   "metadata": {},
   "source": [
    "Ensuite nous allons initialiser les variables pour le graphiques"
   ]
  },
  {
   "cell_type": "code",
   "execution_count": 63,
   "id": "d89cf824-f5b0-4ce8-b0cb-f7fd1ce394c0",
   "metadata": {},
   "outputs": [],
   "source": [
    "PA   = nan(length(betaArray),length(QA));   % probablité de choisir A\n",
    "ct   =  0;   % compteur pour le \"loop for\"\n",
    "x    = .02;  % paramètre pour le graphique\n",
    "leg  = {};"
   ]
  },
  {
   "cell_type": "code",
   "execution_count": 64,
   "id": "e4a0ead2-ad19-44d5-9afe-b4cf70b6ba37",
   "metadata": {},
   "outputs": [
    {
     "data": {
      "text/html": [
       "<html><body><pre>inv_temp = 1</pre></body></html>"
      ],
      "text/plain": [
       "inv_temp = 1"
      ]
     },
     "execution_count": 64,
     "metadata": {},
     "output_type": "execute_result"
    },
    {
     "data": {
      "text/html": [
       "<html><body><pre>inv_temp = 3</pre></body></html>"
      ],
      "text/plain": [
       "inv_temp = 3"
      ]
     },
     "execution_count": 64,
     "metadata": {},
     "output_type": "execute_result"
    },
    {
     "data": {
      "text/html": [
       "<html><body><pre>inv_temp = 10</pre></body></html>"
      ],
      "text/plain": [
       "inv_temp = 10"
      ]
     },
     "execution_count": 64,
     "metadata": {},
     "output_type": "execute_result"
    }
   ],
   "source": [
    "% calcule de la probabilité de choisir pour chaque valeurs de beta (noté comme inv_temp)\n",
    "for i  = 1:size(betaArray,2) \n",
    "    \n",
    "    inv_temp = betaArray(i)\n",
    "    \n",
    "    \n",
    "    PA(i,:) = 1./(1+exp(-inv_temp.*(QA-QB))); % calculer la probabilité de choisir A\n",
    "    \n",
    "    leg{i}  = sprintf('beta = %d', inv_temp) ; % exprimer la valeur de beta choisit pour la légende du graphique\n",
    "    \n",
    "end\n"
   ]
  },
  {
   "cell_type": "markdown",
   "id": "b3a33261-c11d-46ab-a24e-806defe1d15e",
   "metadata": {},
   "source": [
    "Enfin, nous allons afficher le graphique et visualiser l'impact de $ \\beta $ sur la probabilité de choisir la slot machine A"
   ]
  },
  {
   "cell_type": "code",
   "execution_count": 65,
   "id": "edd81b3a-1aff-4303-9d04-0c970f31fd12",
   "metadata": {},
   "outputs": [
    {
     "data": {
      "image/png": "[encoded data removed]"
     },
     "execution_count": 65,
     "metadata": {},
     "output_type": "execute_result"
    }
   ],
   "source": [
    "h = figure; set(h,'position',[10 60 400 400 ],'Color','w'); \n",
    "hold on; box off; \n",
    "\n",
    "\n",
    "sig = plot(QA-QB,PA);\n",
    "set(sig, 'LineWidth', 3);\n",
    "\n",
    "xlabel('Valeur (A) - valeur (B)');\n",
    "ylabel('Probabilité de choisir A');\n",
    "title(sprintf('Softmax function'));\n",
    "ylim([-x*ct 1+x*ct]);\n",
    "legend(leg,'location','best'); legend boxoff;"
   ]
  },
  {
   "cell_type": "code",
   "execution_count": null,
   "id": "b73f213c-052b-498c-a094-d37fa6d16652",
   "metadata": {},
   "outputs": [],
   "source": []
  }
 ],
 "metadata": {
  "kernelspec": {
   "display_name": "MATLAB Kernel",
   "language": "matlab",
   "name": "jupyter_matlab_kernel"
  },
  "language_info": {
   "file_extension": ".m",
   "mimetype": "text/x-matlab",
   "name": "matlab"
  }
 },
 "nbformat": 4,
 "nbformat_minor": 5
}
