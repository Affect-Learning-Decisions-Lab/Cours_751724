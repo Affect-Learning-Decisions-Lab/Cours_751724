{
 "cells": [
  {
   "cell_type": "markdown",
   "id": "5caeb7e8-d374-4bad-b8f8-99ab651b60a1",
   "metadata": {},
   "source": [
    "# Modèle Q avec plusieurs blocs d'apprentissage\n",
    "\n",
    "\n",
    "## Pourquoi modifier la tâche en rajoutant plusieurs blocs d'apprentissage?\n",
    "\n",
    "Très souvent, pour bien estimer les paramètres, nous avons besoin de régressions qui sont suffisamment longues et suffisamment variables. Donc, nous pouvons modifier la tâche décrite dans le document \"Qmodel\", en rajoutant plusieurs blocs où les participants doivent apprendre la valeur de nouvelles machines à sous à chaque fois.\n",
    "\n"
   ]
  },
  {
   "cell_type": "markdown",
   "id": "b11c3722-5fab-4e0c-83bc-9f25c12467f7",
   "metadata": {},
   "source": [
    "## Adaptation du code du  modèle pour plusieurs bloques\n",
    "\n",
    "Le code est extrêmement similaire à celui du Qmodel, avec quelques petites adaptations."
   ]
  },
  {
   "cell_type": "markdown",
   "id": "2f277484-d360-4c9f-b78a-3ab902e49047",
   "metadata": {},
   "source": [
    "### Définition des variables d'entrée\n",
    "\n",
    "Nous avons deux paramètres libres: \n",
    "- le taux d'apprentissage, noté comme alpha\n",
    "- la température inverse, beta, noté comme inv_temp"
   ]
  },
  {
   "cell_type": "code",
   "execution_count": 25,
   "id": "11314364-f5fe-4ac7-97fb-86bb190a8c7b",
   "metadata": {},
   "outputs": [],
   "source": [
    "alpha      = 0.3;\n",
    "inv_temp   = 1.5;"
   ]
  },
  {
   "cell_type": "markdown",
   "id": "773cc0b4-a542-4038-80d5-691b75ecc1d1",
   "metadata": {},
   "source": [
    "Définir le numbre d'essai et le numero de bloques d'apprentissage"
   ]
  },
  {
   "cell_type": "code",
   "execution_count": 26,
   "id": "ab22d3af-e884-40b5-9bb1-bcd248c758ac",
   "metadata": {},
   "outputs": [],
   "source": [
    "ntrials = 24;\n",
    "nruns   =  4;"
   ]
  },
  {
   "cell_type": "markdown",
   "id": "2f246fc0-16e7-41e8-b4de-8b7ad5ba2318",
   "metadata": {},
   "source": [
    "Definir la valeur initiale de deux états"
   ]
  },
  {
   "cell_type": "code",
   "execution_count": 27,
   "id": "8e03e6e9-90c4-4a18-8955-f628c35830b8",
   "metadata": {},
   "outputs": [],
   "source": [
    "Q0  = [0 0]; % valeur initiale\n"
   ]
  },
  {
   "cell_type": "markdown",
   "id": "45dd6100-ab9c-4c39-804b-b4e9a25518cd",
   "metadata": {},
   "source": [
    "### Initialisation des variables \"output\"\n",
    "\n",
    "Nous allons initialiser des vecteurs vides dans lesquels les valeurs de chaque variable d'intérêt calculée par le modèle sont sauvegardées essai par essai.\n"
   ]
  },
  {
   "cell_type": "code",
   "execution_count": 29,
   "id": "0754911a-a5e5-484c-89a2-73a9a3f1c886",
   "metadata": {},
   "outputs": [],
   "source": [
    "Qt  = nan(ntrials+1, 2,nruns);  % valeur pour l'option B (col 1) et l'option A (col 2)\n",
    "PE  = nan(ntrials, nruns);      % Erreur de prédiction\n",
    "ch  = nan(ntrials, nruns);      % choix : 1 = B; 2 = A\n",
    "PA  = nan(ntrials, nruns);      % probabilité de choisir A\n",
    "r   = nan(ntrials, nruns);      % récompense obtenue"
   ]
  },
  {
   "cell_type": "markdown",
   "id": "a63ba8f0-6c9c-4516-a5d7-94eadc97752e",
   "metadata": {},
   "source": [
    "### Exécuter le modèle\n",
    "\n",
    "Le modèle se base sur Rescorla-Wagner pour la mise à jour de la valeur de l'option choisie et sur softmax pour le calcul de la probabilité de choisir l'option avec la plus haute valeur.\n",
    "\n",
    "Nous allons l'utiliser dans une boucle \"for\" qui va lire les essais un par un et exécuter les opérations suivantes :\n",
    "\n",
    "1. **Calculer la probabilité de choisir A :** D'abord, il va calculer la probabilité de choisir l'option A en utilisant la fonction softmax (voir à la fin pour un approfodissement sur cette function).\n",
    "\n",
    "$$\n",
    "P_A(t) = \\frac{1}{1 + e^{-\\beta \\cdot (Q_t(t,2) - Q_t(t,1))}}\n",
    "$$\n",
    "\n",
    "\n",
    "2. **Simuler le choix du modèle :** Ensuite, on simule le choix fait par le modèle (1 = B et 2 = A). On introduit un peu de stochasticité dans le choix en utilisant rand(). Si la probabilité de choisir A (entre 0 et 1) est plus grande qu'un nombre aléatoire entre 0 et 1, alors on choisit A (1+1), sinon on choisit B (1+0).\n",
    "\n",
    "3. **Délivraison de la récompense :** La récompense est délivrée selon si une récompense est disponible dans la matrice des récompenses délivrables (O) et selon l'action (ch) qui a été faite (1 ou 2).\n",
    "\n",
    "4. **Calculer de l'erreur de prédiction :** Différence entre valeur attendue et récompense observé\n",
    "\n",
    "5. **Mise à de la valuer de l'option choisie :** Mise à jours de la valeur comme dans le modèle de Rescorla-Wagner.\n",
    "\n"
   ]
  },
  {
   "cell_type": "code",
   "execution_count": 30,
   "id": "ec22c15c-0365-4e7a-bc81-38811511fdda",
   "metadata": {},
   "outputs": [],
   "source": [
    "for krun = 1:nruns\n",
    "    \n",
    "    % créeer la randomisation des récompenses qui pourraient être obtenue\n",
    "    RA = rand(ntrials,1)<0.8;\n",
    "    RB = rand(ntrials,1)<0.2;\n",
    "    O = [RB, RA];\n",
    "\n",
    "\n",
    "     Qt(1,:,krun)  = Q0; % initalise Q values\n",
    "\n",
    "    % value simulation\n",
    "    for t = 1:ntrials\n",
    "    \n",
    "        % 1 calculer la probabilté de choisr A\n",
    "        PA(t,krun)   = 1./(1+exp(-inv_temp.*(Qt(t,2,krun)-Qt(t,1,krun))));\n",
    "    \n",
    "        % 2 simuler le choix du modèle (1 = option B, 2 = option A)\n",
    "        ch(t,krun)   = 1 + double(rand()<PA(t,krun));\n",
    "    \n",
    "        % 3 délivrer la récompense\n",
    "        r(t,krun) = O(t,ch(t,krun));\n",
    "    \n",
    "        % 4 calcule de l'erreur de prediction\n",
    "        PE(t,krun) = r(t,krun) - Qt(t,ch(t,krun),krun);\n",
    "    \n",
    "        % 5 mise à jours de la valeur\n",
    "        Qt(t+1,ch(t,krun),krun) = Qt(t,ch(t,krun),krun) + alpha.*PE(t,krun);    % colonne ch(t) = choisi (1 ou 2)\n",
    "        Qt(t+1,3-ch(t,krun),krun) = Qt(t,3-ch(t,krun),krun);                    % colonne 3-ch(t) = pas choisi (2 ou 1)\n",
    "    \n",
    "    end\n",
    "    \n",
    "    \n",
    "end"
   ]
  },
  {
   "cell_type": "markdown",
   "id": "5dfe610e-5301-434d-a01d-f747e1fa1013",
   "metadata": {},
   "source": [
    "### Représentations graphiques des trajectoires temporelles des variables latentes"
   ]
  },
  {
   "cell_type": "markdown",
   "id": "284ff656-97c1-4771-a4a6-052940361152",
   "metadata": {},
   "source": [
    "Tout d'abord il faut concatener les variables à travers les différents blocs d'apprentissage"
   ]
  },
  {
   "cell_type": "code",
   "execution_count": 33,
   "id": "a9161ed1-ded8-4984-95b4-097a1d23fa52",
   "metadata": {},
   "outputs": [],
   "source": [
    "% concaténer la matrice avec les valeurs de chaque option\n",
    "\n",
    "Qt     = Qt(2:end,:,:); % enlever le premier 0 qui ne correspond pas à un essai\n",
    "Qt_c   = num2cell(Qt, [1 2]); \n",
    "Qt_all = vertcat(Qt_c{:});\n",
    "\n",
    "% concaténer le vecteur avec la probabilité de choisir A\n",
    "PA_all = PA(:);\n",
    "\n",
    "% concaténer le vecteur avec le choix\n",
    "ch_all = ch(:);\n"
   ]
  },
  {
   "cell_type": "markdown",
   "id": "b3400dd0",
   "metadata": {},
   "source": [
    "<mark>The chosen color has been updated in the following code</mark>"
   ]
  },
  {
   "cell_type": "code",
   "execution_count": 32,
   "id": "a8f005ca-0fe7-4bb1-abd6-70942d99ac52",
   "metadata": {},
   "outputs": [
    {
     "data": {
      "image/png": "[encoded data removed]"
     },
     "execution_count": 32,
     "metadata": {},
     "output_type": "execute_result"
    }
   ],
   "source": [
    "figure\n",
    "\n",
    "% Pour les résultats des valeurs attendues\n",
    "subplot(2, 1, 1)\n",
    "hold on\n",
    "valueA =  plot(Qt_all(:,1), '-b');\n",
    "plot(Qt_all(:,1), 'ob', 'MarkerFaceColor', 'b');  % Points bleus pour chaque observation\n",
    "valueB = plot(Qt_all(:,2), '-r');\n",
    "plot(Qt_all(:,2), 'or', 'MarkerFaceColor', 'r');  % Points rouges pour chaque observation\n",
    "set(valueA, 'LineWidth', 2);\n",
    "set(valueB, 'LineWidth', 2);\n",
    "% mettre un ligne verticale qui indique le début d'un bloc d'apprentissage \n",
    "for i = 1:nruns\n",
    "    xline(i*ntrials+1, '--k'); \n",
    "end\n",
    "\n",
    "xlim([0, ntrials*nruns]);\n",
    "ylim([0, 1.1]);\n",
    "xlabel('Essai');\n",
    "ylabel('Valeur attendue');\n",
    "legend([valueA, valueB],'option B','option A','Location','best');\n",
    "\n",
    "% Pour les résultats des choix simulée\n",
    "subplot(2, 1, 2);\n",
    "hold on\n",
    "pro = plot(PA_all, '-k');\n",
    "plot(PA_all, 'ok', 'MarkerFaceColor', 'k');  % Points noirs pour chaque observation\n",
    "set(pro, 'LineWidth', 2);\n",
    "ch = plot(ch_all-1, 'o','MarkerFaceColor', [0.9290 0.6940 0.1250]);  % Points  jaunes pour chaque observation);\n",
    "xlim([0, ntrials*nruns]);\n",
    "% mettre un ligne verticale qui indique le début d'un block d'apprentissage \n",
    "for i = 1:nruns\n",
    "    xline(i*ntrials, '--k'); \n",
    "end\n",
    "ylim([-0.1, 1.1]);\n",
    "xlabel('Essais');\n",
    "ylabel('Probabilité de choisir A');\n",
    "legend([pro,ch],'probabilité(A)','choix','Location','best');\n"
   ]
  },
  {
   "cell_type": "code",
   "execution_count": null,
   "id": "9aa5a0c7-4d4e-4a22-b61f-66278f9c777e",
   "metadata": {},
   "outputs": [],
   "source": []
  },
  {
   "cell_type": "code",
   "execution_count": null,
   "id": "59636a93-a774-45dd-b4ad-a1c3c66edc57",
   "metadata": {},
   "outputs": [],
   "source": []
  }
 ],
 "metadata": {
  "kernelspec": {
   "display_name": "MATLAB Kernel",
   "language": "matlab",
   "name": "jupyter_matlab_kernel"
  },
  "language_info": {
   "file_extension": ".m",
   "mimetype": "text/x-matlab",
   "name": "matlab"
  }
 },
 "nbformat": 4,
 "nbformat_minor": 5
}
