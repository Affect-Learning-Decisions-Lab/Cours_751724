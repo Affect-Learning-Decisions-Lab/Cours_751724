{
 "cells": [
  {
   "cell_type": "markdown",
   "id": "5caeb7e8-d374-4bad-b8f8-99ab651b60a1",
   "metadata": {},
   "source": [
    "# Modèle Q\n",
    "\n",
    "## Tâche expérimentale\n",
    "\n",
    "Dans cette tâche, deux machines à sous sont présentées à chaque essai, chacune associée à une certaine probabilité de récompense.  les probabilités de gain des machines A et B sont définie par nous, les expérimentateurs. Il y a tjours une \"bonne\" et une \"mauvaise\" option. La probabilité de gain lorsque le participants choisit la machine à forte rémunération est toujours de 80 %. La probabilité de récompense lorsque le participant choisit la machine à faible récompense n'était que de 30 %. La tâche est une Markovienne, cela signique que le retour d'information que vous obtenez dépend UNIQUEMENT de la machine à sous choisie (A ou B) et ne dépend donc pas de l'emplacement, ni des choix précédents.\n",
    "\n",
    "\n"
   ]
  },
  {
   "cell_type": "markdown",
   "id": "a6e2baa9-ee48-4e95-9286-a460c827b693",
   "metadata": {},
   "source": [
    "## Code du modèle \n",
    "\n",
    "### Définition des variables \"input\"\n",
    "\n",
    "Nous avons deux paramètres libres: \n",
    "- le taux d'apprentissage, noté comme alpha\n",
    "- la température inverse, noté comme inv_temp"
   ]
  },
  {
   "cell_type": "code",
   "execution_count": 11,
   "id": "11314364-f5fe-4ac7-97fb-86bb190a8c7b",
   "metadata": {},
   "outputs": [],
   "source": [
    "alpha      = 0.3;\n",
    "inv_temp   = 1.5;"
   ]
  },
  {
   "cell_type": "markdown",
   "id": "773cc0b4-a542-4038-80d5-691b75ecc1d1",
   "metadata": {},
   "source": [
    "Nombre d'essais de la tâche"
   ]
  },
  {
   "cell_type": "code",
   "execution_count": 12,
   "id": "ab22d3af-e884-40b5-9bb1-bcd248c758ac",
   "metadata": {},
   "outputs": [],
   "source": [
    "ntrials = 24;"
   ]
  },
  {
   "cell_type": "markdown",
   "id": "2f246fc0-16e7-41e8-b4de-8b7ad5ba2318",
   "metadata": {},
   "source": [
    "Valeur initiale de deux machines à sous (A et B)"
   ]
  },
  {
   "cell_type": "code",
   "execution_count": 14,
   "id": "8e03e6e9-90c4-4a18-8955-f628c35830b8",
   "metadata": {},
   "outputs": [],
   "source": [
    "Q0  = [0 0]; % valeur initiale\n"
   ]
  },
  {
   "cell_type": "markdown",
   "id": "8dc47461-8e5d-4691-9238-9030c4568079",
   "metadata": {},
   "source": [
    "Définir la possibilité d'obtenir une récompense pour chacun machine à sous :\n",
    "- RA c'est les récompense pour la machine à sous A,  ce qui sera mis à 1 dans 80% des fois\n",
    "- RB c'est les récompense pour la machine à sous B,  ce qui sera mis à 1 dans 20% des fois\n",
    "- O combine les deux options en deux colonnes dans une matrice de \"récompenses obtenables\""
   ]
  },
  {
   "cell_type": "code",
   "execution_count": 15,
   "id": "d468eb7a-4daf-4968-9b81-34da4292d1b8",
   "metadata": {},
   "outputs": [
    {
     "data": {
      "text/html": [
       "<html><body><pre>O = 24x2 logical array\n",
       "   0   1\n",
       "   0   1\n",
       "   1   0\n",
       "   0   1\n",
       "   0   0\n",
       "   0   1\n",
       "   0   1\n",
       "   0   1\n",
       "   0   1\n",
       "   0   1\n",
       "   0   0\n",
       "   0   1\n",
       "   0   1\n",
       "   0   0\n",
       "   0   0\n",
       "   0   1\n",
       "   0   1\n",
       "   1   1\n",
       "   1   1\n",
       "   0   1\n",
       "   1   1\n",
       "   0   1\n",
       "   0   0\n",
       "   0   1\n",
       "</pre></body></html>"
      ],
      "text/plain": [
       "O = 24x2 logical array\n",
       "   0   1\n",
       "   0   1\n",
       "   1   0\n",
       "   0   1\n",
       "   0   0\n",
       "   0   1\n",
       "   0   1\n",
       "   0   1\n",
       "   0   1\n",
       "   0   1\n",
       "   0   0\n",
       "   0   1\n",
       "   0   1\n",
       "   0   0\n",
       "   0   0\n",
       "   0   1\n",
       "   0   1\n",
       "   1   1\n",
       "   1   1\n",
       "   0   1\n",
       "   1   1\n",
       "   0   1\n",
       "   0   0\n",
       "   0   1\n"
      ]
     },
     "execution_count": 15,
     "metadata": {},
     "output_type": "execute_result"
    }
   ],
   "source": [
    "RA = rand(ntrials,1)<0.8;\n",
    "RB = rand(ntrials,1)<0.2;\n",
    "O = [RB, RA]"
   ]
  },
  {
   "cell_type": "markdown",
   "id": "45dd6100-ab9c-4c39-804b-b4e9a25518cd",
   "metadata": {},
   "source": [
    "### Initialisation des variables \"output\"\n",
    "\n",
    "Nous allons initialiser des vecteurs vides dans lesquels les valeurs de chaque variable d'intérêt calculée par le modèle sont sauvées essai par essai."
   ]
  },
  {
   "cell_type": "code",
   "execution_count": 16,
   "id": "0754911a-a5e5-484c-89a2-73a9a3f1c886",
   "metadata": {},
   "outputs": [],
   "source": [
    "Qt  = nan(ntrials+1, 2);    % valuer pour l'option B (col 1) et l'option A (col 2)\n",
    "PE  = nan(ntrials, 1);      % Erreur de prediction\n",
    "ch  = nan(ntrials, 1);      % choix : 1 = B; 2 = A\n",
    "PA  = nan(ntrials, 1);      % probabilité de choisir A\n",
    "r   = nan(ntrials, 1);      % récompense obtenue"
   ]
  },
  {
   "cell_type": "markdown",
   "id": "a63ba8f0-6c9c-4516-a5d7-94eadc97752e",
   "metadata": {
    "tags": []
   },
   "source": [
    "### Excuter le modèle\n",
    "\n",
    "Le modèle se base sur Rescorla-Wagner pour la mise à jour de la valeur de l'option choisie et sur softmax pour le calcul de la probabilité de choisir l'option avec la plus haute valeur.\n",
    "\n",
    "Nous allons l'utiliser dans une boucle \"for\" qui va lire les essais un par un et exécuter les opérations suivantes :\n",
    "\n",
    "1. **Calculer la probabilité de choisir A :** D'abord, il va calculer la probabilité de choisir l'option A en utilisant la fonction softmax (voir à la fin pour un approfodissement sur cette function).\n",
    "\n",
    "$$\n",
    "P_A(t) = \\frac{1}{1 + e^{-\\beta \\cdot (Q_t(t,2) - Q_t(t,1))}}\n",
    "$$\n",
    "\n",
    "\n",
    "2. **Simuler le choix du modèle :** Ensuite, on simule le choix fait par le modèle (1 = B et 2 = A). On introduit un peu de stochasticité dans le choix en utilisant rand(). Si la probabilité de choisir A (entre 0 et 1) est plus grande qu'un nombre aléatoire entre 0 et 1, alors on choisit A (1+1), sinon on choisit B (1+0).\n",
    "\n",
    "3. **Délivraison de la récompense :** La récompense est délivrée selon si une récompense est disponible dans la matrice des récompenses délivrables (O) et selon l'action (ch) qui a été faite (1 ou 2).\n",
    "\n",
    "4. **Calculer de l'erreur de prédiction :** Différence entre valeur attendue et récompense observé\n",
    "\n",
    "5. **Mise à de la valuer de l'option choisie :** Mis à jours de la valeur comme dans le modèle de Rescorla-Wagner.\n"
   ]
  },
  {
   "cell_type": "code",
   "execution_count": 18,
   "id": "ec22c15c-0365-4e7a-bc81-38811511fdda",
   "metadata": {},
   "outputs": [
    {
     "data": {
      "text/html": [
       "<html><body><pre>Qt = 25x2 double\n",
       "         0         0\n",
       "         0    0.3000\n",
       "         0    0.5100\n",
       "    0.3000    0.5100\n",
       "    0.3000    0.6570\n",
       "    0.3000    0.4599\n",
       "    0.2100    0.4599\n",
       "    0.2100    0.6219\n",
       "    0.2100    0.7354\n",
       "    0.2100    0.8147\n",
       "...</pre></body></html>"
      ],
      "text/plain": [
       "Qt = 25x2 double\n",
       "         0         0\n",
       "         0    0.3000\n",
       "         0    0.5100\n",
       "    0.3000    0.5100\n",
       "    0.3000    0.6570\n",
       "    0.3000    0.4599\n",
       "    0.2100    0.4599\n",
       "    0.2100    0.6219\n",
       "    0.2100    0.7354\n",
       "    0.2100    0.8147\n",
       "..."
      ]
     },
     "execution_count": 18,
     "metadata": {},
     "output_type": "execute_result"
    }
   ],
   "source": [
    "Qt(1,:)  = Q0 ;             % initalise Q values\n",
    "\n",
    "% value simulation\n",
    "for t = 1:ntrials\n",
    "    \n",
    "    % 1 calculer la probabilté de choisr A\n",
    "    PA(t)   = 1./(1+exp(-inv_temp.*(Qt(t,2)-Qt(t,1))));\n",
    "    \n",
    "    % 2 simuler le choix du modèle (1 = option B, 2 = option A)\n",
    "    ch(t)   = 1 + double(rand()<PA(t));\n",
    "    \n",
    "    % 3 delivrer la récompense\n",
    "    r(t)    = O(t,ch(t));\n",
    "    \n",
    "    % 4 compute prediction error\n",
    "    PE(t)   = r(t) - Qt(t,ch(t));\n",
    "    \n",
    "    % 5 mise à jours de la valeur\n",
    "    Qt(t+1,ch(t)) = Qt(t,ch(t)) + alpha.*PE(t);     % column ch(t) = chosen (1 or 2)\n",
    "    Qt(t+1,3-ch(t)) = Qt(t,3-ch(t));                % column 3-ch(t) = unchosen (2 or 1)\n",
    "    \n",
    "end\n",
    "\n",
    "Qt"
   ]
  },
  {
   "cell_type": "markdown",
   "id": "5dfe610e-5301-434d-a01d-f747e1fa1013",
   "metadata": {},
   "source": [
    "### Representations graphiques des trajectoires temporelles des variables latentes"
   ]
  },
  {
   "cell_type": "code",
   "execution_count": 19,
   "id": "a8f005ca-0fe7-4bb1-abd6-70942d99ac52",
   "metadata": {},
   "outputs": [
    {
     "data": {
      "image/png": "[encoded data removed]"
     },
     "execution_count": 19,
     "metadata": {},
     "output_type": "execute_result"
    }
   ],
   "source": [
    "figure\n",
    "\n",
    "% display the simulation results for predicted value\n",
    "subplot(2, 1, 1)\n",
    "hold on\n",
    "valueA =  plot(Qt(:,1), '-b');\n",
    "plot(Qt(:,1), 'ob', 'MarkerFaceColor', 'b');  % Points noirs pour chaque observation\n",
    "valueB = plot(Qt(:,2), '-r');\n",
    "plot(Qt(:,2), 'or', 'MarkerFaceColor', 'r');  % Points noirs pour chaque observation\n",
    "set(valueA, 'LineWidth', 2);\n",
    "set(valueB, 'LineWidth', 2);\n",
    "\n",
    "xlim([0, ntrials]);\n",
    "ylim([0, 1.1]);\n",
    "xlabel('Essai');\n",
    "ylabel('Valeur attendue');\n",
    "legend([valueA, valueB],'option B','option A','Location','best');\n",
    "\n",
    "% display the simulation results for probability of choosing A\n",
    "subplot(2, 1, 2);\n",
    "hold on\n",
    "pro = plot(PA, '-k');\n",
    "plot(PA, 'ok', 'MarkerFaceColor', 'k');  % Points noirs pour chaque observation\n",
    "set(pro, 'LineWidth', 2);\n",
    "ch = plot(ch-1, 'o','MarkerFaceColor', [0.9290 0.6940 0.1250]);  % Points noirs pour chaque observation);\n",
    "xlim([0, ntrials]);\n",
    "ylim([-0.1, 1.1]);\n",
    "xlabel('Essais');\n",
    "ylabel('Probabilité de choisir A');\n",
    "legend([pro,ch],'probabilité(A)','choix','Location','best');\n"
   ]
  },
  {
   "cell_type": "markdown",
   "id": "d21b1409-7538-443e-8504-32369a1121c5",
   "metadata": {},
   "source": [
    "### Approfodissement sur la function softmax"
   ]
  },
  {
   "cell_type": "markdown",
   "id": "782b3af0-208b-4df1-8ea1-14789638454e",
   "metadata": {},
   "source": [
    "Au début de chaque essai, le participant doit décider, sur la base de deux valeurs (Q de la machine à sous A et Q de la machine à sous B), quelle machine choisir? Il y a deux options:\n",
    "\n",
    "- toujours choisir le stimulus ayant la valeur la plus élevée\n",
    "- parfois chercher à savoir si l'autre machine s'est améliorée\n",
    "\n",
    "Même si la première option conduit à la plus grande récompense, les individus ne utilisent généralement pas cette stratégie de \"maximisation de la probabilité\" (c'est-à-dire choisir le stimulus avec la plus grande probabilité de récompense). Ils choisissent plutôt le stimulus ayant la probabilité la plus élevée, mais pas tout le temps, de tans en tans ils explorent l'autre option.\n",
    "Cependant, il y a des différences interindividuelles dans la mésure ou les individuent explorent. Pour modéliser la manière dont les individus traduisent les valeurs apprises en un choix, nous utiliserons un modèle capable de rendre compte de ces différentes stratégies avec la function softmax. "
   ]
  },
  {
   "cell_type": "markdown",
   "id": "71e23ed8-6d4f-459a-8610-f11984df8bfe",
   "metadata": {},
   "source": [
    "Dans le cas notre tâche experimentale softmax calcule la probabilité de choisir A étant donné la valuer de la machine à sous A ($Q_A$) et la valeur de la machine à sous B ($Q_B$) comme il suit: "
   ]
  },
  {
   "cell_type": "markdown",
   "id": "c9d796a9-58e5-4a9a-a39e-0bfe74788c85",
   "metadata": {},
   "source": [
    "\n",
    "$$\n",
    "p(A) = \\frac{e^{\\beta \\cdot Q_A}}{e^{\\beta \\cdot Q_A} + e^{\\beta \\cdot Q_B}} \n",
    "$$\n"
   ]
  },
  {
   "cell_type": "markdown",
   "id": "8a5ed19e-f395-46e4-9da0-539f74a3df34",
   "metadata": {},
   "source": [
    "Ou\n",
    "\n",
    "- $\\beta$ est le paramètre de température inverse, qui contrôle le niveau d'exploration \n",
    "- $Q_B$ est la valeur associée à la machine à sous B.\n"
   ]
  },
  {
   "cell_type": "markdown",
   "id": "b7d48652-55cd-4de6-b218-6fb2e5a98414",
   "metadata": {},
   "source": [
    "Dans le code nous allons formuler softmax comme il suit:\n",
    "\n",
    "$$ \n",
    "P_A(t) = \\frac{1}{1 + e^{-\\beta \\cdot (Q_t(t,2) - Q_t(t,1))}} \n",
    "$$"
   ]
  },
  {
   "cell_type": "markdown",
   "id": "d2543ca8-fd1a-4bf1-af98-d87d2b90a309",
   "metadata": {},
   "source": [
    "Allons maitentant voir cocrètement l'imapact du parametre sur la probabilité de choisir nous allons définir deux valuer de $\\beta$"
   ]
  },
  {
   "cell_type": "code",
   "execution_count": 118,
   "id": "a3c2a1c6-2671-4449-bd85-8424346b0b67",
   "metadata": {},
   "outputs": [
    {
     "data": {
      "text/html": [
       "<html><body><pre>betaArray = 1x3 double\n",
       "     1     3    10\n",
       "</pre></body></html>"
      ],
      "text/plain": [
       "betaArray = 1x3 double\n",
       "     1     3    10\n"
      ]
     },
     "execution_count": 118,
     "metadata": {},
     "output_type": "execute_result"
    }
   ],
   "source": [
    "betaArray = [1 3 10]"
   ]
  },
  {
   "cell_type": "code",
   "execution_count": null,
   "id": "d4baffe1-bbe2-4daf-9250-3c684ac2e66a",
   "metadata": {},
   "outputs": [],
   "source": [
    "Nous allons en suite définir des valeur de A et B"
   ]
  },
  {
   "cell_type": "code",
   "execution_count": 119,
   "id": "345bf883-edd6-4d42-8605-62117feb002f",
   "metadata": {},
   "outputs": [
    {
     "data": {
      "text/html": [
       "<html><body><pre>QA = 1x51 double\n",
       "         0    0.0200    0.0400    0.0600    0.0800    0.1000    0.1200    0.1400    0.1600    0.1800    0.2000    0.2200    0.2400    0.2600    0.2800    0.3000    0.3200    0.3400    0.3600    0.3800    0.4000    0.4200    0.4400    0.4600    0.4800    0.5000    0.5200    0.5400    0.5600    0.5800\n",
       "...</pre></body></html>"
      ],
      "text/plain": [
       "QA = 1x51 double\n",
       "         0    0.0200    0.0400    0.0600    0.0800    0.1000    0.1200    0.1400    0.1600    0.1800    0.2000    0.2200    0.2400    0.2600    0.2800    0.3000    0.3200    0.3400    0.3600    0.3800    0.4000    0.4200    0.4400    0.4600    0.4800    0.5000    0.5200    0.5400    0.5600    0.5800\n",
       "..."
      ]
     },
     "execution_count": 119,
     "metadata": {},
     "output_type": "execute_result"
    }
   ],
   "source": [
    "QA = 0:0.02:1\n",
    "QB = 1 - QA;\n"
   ]
  },
  {
   "cell_type": "code",
   "execution_count": null,
   "id": "b3e6891d-b4ae-444a-bc3e-c42ffd224420",
   "metadata": {},
   "outputs": [],
   "source": [
    "Ensuite nous allons initialiser les variables pour le graphiques"
   ]
  },
  {
   "cell_type": "code",
   "execution_count": 120,
   "id": "d89cf824-f5b0-4ce8-b0cb-f7fd1ce394c0",
   "metadata": {},
   "outputs": [],
   "source": [
    "PA   = nan(length(betaArray),length(QA));   % probablité de choisir A\n",
    "ct   = 0; % compteur pour le loop for\n",
    "x    = .02; %????\n",
    "leg  = {};"
   ]
  },
  {
   "cell_type": "code",
   "execution_count": 121,
   "id": "e4a0ead2-ad19-44d5-9afe-b4cf70b6ba37",
   "metadata": {},
   "outputs": [],
   "source": [
    "% we want a plot the two (or more value of the inverse temperature)\n",
    "for inv_temp  = betaArray \n",
    "    \n",
    "    ct = ct+1;\n",
    "    \n",
    "    PA(ct,:) = 1./(1+exp(-inv_temp.*(QA-QB))); % calculate la probabilité de choisir A\n",
    "    \n",
    "    leg{ct}  = sprintf('beta = %d', inv_temp) ; % emprimer la valeur de beta choisit pour la legende du graphique\n",
    "    \n",
    "end\n"
   ]
  },
  {
   "cell_type": "markdown",
   "id": "b3a33261-c11d-46ab-a24e-806defe1d15e",
   "metadata": {},
   "source": [
    "Finalement nous allons emprimer le graphique"
   ]
  },
  {
   "cell_type": "code",
   "execution_count": 123,
   "id": "edd81b3a-1aff-4303-9d04-0c970f31fd12",
   "metadata": {},
   "outputs": [
    {
     "data": {
      "image/png": "[encoded data removed]"
     },
     "execution_count": 123,
     "metadata": {},
     "output_type": "execute_result"
    }
   ],
   "source": [
    "h = figure; set(h,'position',[10 60 400 400 ],'Color','w'); \n",
    "hold on; box off; \n",
    "\n",
    "\n",
    "sig = plot(QA-QB,PA);\n",
    "set(sig, 'LineWidth', 3);\n",
    "\n",
    "xlabel('Value (A) - Value (B)');\n",
    "ylabel('Probabilité de choisir A');\n",
    "title(sprintf('Softmax function'));\n",
    "ylim([-x*ct 1+x*ct]);\n",
    "legend(leg,'location','best'); legend boxoff;"
   ]
  },
  {
   "cell_type": "code",
   "execution_count": null,
   "id": "b73f213c-052b-498c-a094-d37fa6d16652",
   "metadata": {},
   "outputs": [],
   "source": []
  }
 ],
 "metadata": {
  "kernelspec": {
   "display_name": "MATLAB Kernel",
   "language": "matlab",
   "name": "jupyter_matlab_kernel"
  },
  "language_info": {
   "file_extension": ".m",
   "mimetype": "text/x-matlab",
   "name": "matlab"
  }
 },
 "nbformat": 4,
 "nbformat_minor": 5
}
